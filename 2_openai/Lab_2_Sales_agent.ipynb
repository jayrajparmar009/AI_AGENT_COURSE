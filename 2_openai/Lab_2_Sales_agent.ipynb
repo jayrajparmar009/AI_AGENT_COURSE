{
 "cells": [
  {
   "cell_type": "markdown",
   "id": "fc659c14",
   "metadata": {},
   "source": [
    "## Week 2 Day 2 <center> Sales Agent\n",
    "\n",
    "### We are going to build a simple sales agent that will:\n",
    "\n",
    "1. Be able to send email\n",
    "2. Use different tools created by us and\n",
    "3. Hand off task\n",
    "\n",
    "\n",
    "We would be creating SENDGRID_API_KEY using its free account for our agents to be able to send emails"
   ]
  },
  {
   "cell_type": "code",
   "execution_count": 3,
   "id": "900f365a",
   "metadata": {},
   "outputs": [],
   "source": [
    "from dotenv import load_dotenv\n",
    "import os\n",
    "from agents import Agent, Runner, trace, function_tool\n",
    "from openai.types.responses import ResponseTextDeltaEvent\n",
    "import sendgrid\n",
    "from sendgrid.helpers.mail import Mail, Email, To, Content\n",
    "import asyncio"
   ]
  },
  {
   "cell_type": "code",
   "execution_count": 4,
   "id": "a1087547",
   "metadata": {},
   "outputs": [
    {
     "data": {
      "text/plain": [
       "True"
      ]
     },
     "execution_count": 4,
     "metadata": {},
     "output_type": "execute_result"
    }
   ],
   "source": [
    "load_dotenv(override=True)"
   ]
  },
  {
   "cell_type": "code",
   "execution_count": null,
   "id": "71207537",
   "metadata": {},
   "outputs": [],
   "source": [
    "# Let's just check emails are working for you\n",
    "\n",
    "def send_test_email():\n",
    "    sg = sendgrid.SendGridAPIClient(api_key=os.environ.get('SENDGRID_API_KEY'))\n",
    "    from_email = Email(\"ed@edwarddonner.com\")  # Change to your verified sender\n",
    "    to_email = To(\"ed.donner@gmail.com\")  # Change to your recipient\n",
    "    content = Content(\"text/plain\", \"This is an important test email\")\n",
    "    mail = Mail(from_email, to_email, \"Test email\", content).get()\n",
    "    response = sg.client.mail.send.post(request_body=mail)\n",
    "    print(response.status_code)\n",
    "\n",
    "send_test_email()"
   ]
  },
  {
   "cell_type": "code",
   "execution_count": 17,
   "id": "671649b2",
   "metadata": {},
   "outputs": [
    {
     "name": "stdout",
     "output_type": "stream",
     "text": [
      "API Key exists: True\n",
      "Email sent successfully!\n",
      "Status code: 202\n",
      "Response body: b''\n",
      "Response headers: Server: nginx\n",
      "Date: Wed, 13 Aug 2025 01:08:14 GMT\n",
      "Content-Length: 0\n",
      "Connection: close\n",
      "X-Message-Id: -lvnh03YRjSPMT_ZT1Js_g\n",
      "Access-Control-Allow-Origin: https://sendgrid.api-docs.io\n",
      "Access-Control-Allow-Methods: POST\n",
      "Access-Control-Allow-Headers: Authorization, Content-Type, On-behalf-of, x-sg-elas-acl\n",
      "Access-Control-Max-Age: 600\n",
      "X-No-CORS-Reason: https://sendgrid.com/docs/Classroom/Basics/API/cors.html\n",
      "Strict-Transport-Security: max-age=31536000; includeSubDomains\n",
      "Content-Security-Policy: frame-ancestors 'none'\n",
      "Cache-Control: no-cache\n",
      "X-Content-Type-Options: no-sniff\n",
      "Referrer-Policy: strict-origin-when-cross-origin\n",
      "\n",
      "\n"
     ]
    }
   ],
   "source": [
    "def send_test_email():\n",
    "    # Debug: Check if environment variables are loaded\n",
    "    api_key = os.environ.get('SENDGRID_API_KEY')\n",
    "    from_email_addr = os.getenv(\"YAHOO_ID\")\n",
    "    to_email_addr = os.getenv(\"GMAIL_ID\")\n",
    "    \n",
    "    print(f\"API Key exists: {api_key is not None}\")\n",
    "    # print(f\"From email: {from_email_addr}\")\n",
    "    # print(f\"To email: {to_email_addr}\")\n",
    "    \n",
    "    if not api_key:\n",
    "        raise ValueError(\"SENDGRID_API_KEY environment variable is not set\")\n",
    "    if not from_email_addr:\n",
    "        raise ValueError(\"YAHOO_ID environment variable is not set\")\n",
    "    if not to_email_addr:\n",
    "        raise ValueError(\"GMAIL_ID environment variable is not set\")\n",
    "    \n",
    "    try:\n",
    "        # Initialize SendGrid client\n",
    "        sg = sendgrid.SendGridAPIClient(api_key=api_key)\n",
    "        \n",
    "        # Create the email message - Fixed: Remove .get() method call\n",
    "        message = Mail(\n",
    "            from_email=from_email_addr,  # Can pass string directly\n",
    "            to_emails=to_email_addr,     # Can pass string directly\n",
    "            subject=\"Test email from your AI Agent\",\n",
    "            plain_text_content=\"This is an important test email from your AI Agent\"\n",
    "        )\n",
    "        \n",
    "        # Alternative way using the helper classes (if you prefer):\n",
    "        # from_email = Email(from_email_addr)\n",
    "        # to_email = To(to_email_addr)\n",
    "        # content = Content(\"text/plain\", \"This is an important test email from your AI Agent\")\n",
    "        # message = Mail(from_email, to_email, \"Test email from your AI Agent\", content)\n",
    "        \n",
    "        # Send the email\n",
    "        response = sg.send(message)  # Simplified method call\n",
    "        \n",
    "        print(f\"Email sent successfully!\")\n",
    "        print(f\"Status code: {response.status_code}\")\n",
    "        print(f\"Response body: {response.body}\")\n",
    "        print(f\"Response headers: {response.headers}\")\n",
    "        \n",
    "    except Exception as e:\n",
    "        print(f\"Error sending email: {str(e)}\")\n",
    "        if hasattr(e, 'body'):\n",
    "            print(f\"Error body: {e.body}\")\n",
    "\n",
    "\n",
    "send_test_email()"
   ]
  },
  {
   "cell_type": "markdown",
   "id": "c9940c8d",
   "metadata": {},
   "source": [
    "# Agent Workflow\n",
    "\n",
    "#### Creating multiple sales agent that writes emails"
   ]
  },
  {
   "cell_type": "code",
   "execution_count": 18,
   "id": "6ebc260f",
   "metadata": {},
   "outputs": [],
   "source": [
    "sag1 = \"You are a sales agent working at ComplAI,\\\n",
    "a company that provides SaaS tool for SOC 2 compliance and preparing for audits, powered by AI.\\\n",
    "You write professional serious cold emails.\"\n",
    "\n",
    "    \n",
    "sag2 = \"You are a humorous, engaging sales agent working for ComplAI, \\\n",
    "a company that provides a SaaS tool for ensuring SOC2 compliance and preparing for audits, powered by AI. \\\n",
    "You write witty, engaging cold emails that are likely to get a response.\"\n",
    "\n",
    "sag3 = \"You are a busy sales agent working for ComplAI, \\\n",
    "a company that provides a SaaS tool for ensuring SOC2 compliance and preparing for audits, powered by AI. \\\n",
    "You write concise, to the point cold emails.\"\n",
    "    "
   ]
  },
  {
   "cell_type": "code",
   "execution_count": 22,
   "id": "82a3c753",
   "metadata": {},
   "outputs": [],
   "source": [
    "sales_agent1 = Agent(\n",
    "    name=\"Sales Agent 1\",\n",
    "    instructions=sag1,\n",
    "    model=\"gpt-4o-mini\")\n",
    "\n",
    "\n",
    "sales_agent2 = Agent(\n",
    "    name=\"Sales Agent 2\",\n",
    "    instructions=sag2,\n",
    "    model=\"gpt-4o-mini\")\n",
    "\n",
    "sales_agent3 = Agent(\n",
    "    name=\"Sales Agent 3\",\n",
    "    instructions=sag3,\n",
    "    model=\"gpt-4o-mini\")"
   ]
  },
  {
   "cell_type": "code",
   "execution_count": null,
   "id": "42ab283a",
   "metadata": {},
   "outputs": [
    {
     "data": {
      "text/plain": [
       "\"Subject: Simplify Your SOC 2 Compliance Journey with ComplAI\\n\\nHi [Recipient's Name],\\n\\nI hope this message finds you well. I'm [Your Name], reaching out from ComplAI, where we specialize in making SOC 2 compliance seamless and efficient through our AI-driven SaaS platform.\\n\\nAs organizations increasingly focus on data security, ensuring compliance with SOC 2 standards is becoming paramount. Our tool not only simplifies the auditing process but also helps in maintaining ongoing compliance, allowing you to focus on what you do best—growing your business.\\n\\nKey benefits of using ComplAI include:\\n\\n- **Automated Documentation:** Streamline the creation and management of required documents.\\n- **Real-Time Monitoring:** Gain insights into compliance status and areas of improvement.\\n- **AI-Driven Insights:** Leverage advanced analytics to enhance security measures.\\n\\nI would love the opportunity to discuss how ComplAI can support your compliance initiatives. Are you available for a brief call next week?\\n\\nLooking forward to connecting.\\n\\nBest regards,\\n\\n[Your Name]  \\n[Your Position]  \\nComplAI  \\n[Your Phone Number]  \\n[Your Email Address]  \\n[Website URL]  \""
      ]
     },
     "execution_count": 29,
     "metadata": {},
     "output_type": "execute_result"
    }
   ],
   "source": [
    "result = await Runner.run(sales_agent1, input=\"Write a cold sales email\")\n"
   ]
  },
  {
   "cell_type": "code",
   "execution_count": null,
   "id": "e0da371c",
   "metadata": {},
   "outputs": [
    {
     "name": "stdout",
     "output_type": "stream",
     "text": [
      "Subject: Simplify Your SOC 2 Compliance with ComplAI\n",
      "\n",
      "Hi [Recipient's Name],\n",
      "\n",
      "I hope this message finds you well. My name is [Your Name], and I’m reaching out from ComplAI, where we specialize in streamlining the SOC 2 compliance journey for businesses like yours.\n",
      "\n",
      "As you may know, achieving SOC 2 compliance can be a daunting process—one that requires significant time and resources. That's where we come in. Our AI-powered SaaS tool automates documentation, prepares your team for audits, and simplifies the entire compliance workflow. \n",
      "\n",
      "Here are a few key benefits our clients have experienced:\n",
      "\n",
      "- **Efficiency**: Reduce compliance preparation time by up to 50%.\n",
      "- **Scalability**: Easily adapt to evolving regulations and audit requirements.\n",
      "- **Cost Savings**: Minimize the need for external consulting fees.\n",
      "\n",
      "I’d love to schedule a brief call to discuss how ComplAI can specifically help [Recipient's Company Name] streamline its SOC 2 compliance process. When would be a convenient time for you?\n",
      "\n",
      "Looking forward to your thoughts.\n",
      "\n",
      "Best regards,\n",
      "\n",
      "[Your Name]  \n",
      "[Your Title]  \n",
      "ComplAI  \n",
      "[Your Phone Number]  \n",
      "[Your LinkedIn Profile] (if applicable)  \n",
      "[Company Website]  "
     ]
    }
   ],
   "source": [
    "# UNderstand the below run.streamed implementation instead of Runner.run\n",
    "\n",
    "result = Runner.run_streamed(sales_agent1, input=\"Write a cold sales email\")\n",
    "async for event in result.stream_events():\n",
    "    if event.type == \"raw_response_event\" and isinstance(event.data, ResponseTextDeltaEvent):\n",
    "        print(event.data.delta, end=\"\", flush=True)"
   ]
  },
  {
   "cell_type": "code",
   "execution_count": null,
   "id": "c2fa260f",
   "metadata": {},
   "outputs": [],
   "source": []
  }
 ],
 "metadata": {
  "kernelspec": {
   "display_name": "my_own_files",
   "language": "python",
   "name": "python3"
  },
  "language_info": {
   "codemirror_mode": {
    "name": "ipython",
    "version": 3
   },
   "file_extension": ".py",
   "mimetype": "text/x-python",
   "name": "python",
   "nbconvert_exporter": "python",
   "pygments_lexer": "ipython3",
   "version": "3.12.11"
  }
 },
 "nbformat": 4,
 "nbformat_minor": 5
}
