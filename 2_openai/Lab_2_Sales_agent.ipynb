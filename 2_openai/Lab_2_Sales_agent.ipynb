{
 "cells": [
  {
   "cell_type": "markdown",
   "id": "fc659c14",
   "metadata": {},
   "source": [
    "## Week 2 Day 2 <center> Sales Agent\n",
    "\n",
    "### We are going to build a simple sales agent that will:\n",
    "\n",
    "1. Be able to send email\n",
    "2. Use different tools created by us and\n",
    "3. Hand off task\n",
    "\n",
    "\n",
    "We would be creating SENDGRID_API_KEY using its free account for our agents to be able to send emails"
   ]
  },
  {
   "cell_type": "code",
   "execution_count": 1,
   "id": "900f365a",
   "metadata": {},
   "outputs": [],
   "source": [
    "from dotenv import load_dotenv\n",
    "import os\n",
    "from agents import Agent, Runner, trace, function_tool\n",
    "from openai.types.responses import ResponseTextDeltaEvent\n",
    "import sendgrid\n",
    "from sendgrid.helpers.mail import Mail, Email, To, Content\n",
    "import asyncio"
   ]
  },
  {
   "cell_type": "code",
   "execution_count": 2,
   "id": "a1087547",
   "metadata": {},
   "outputs": [
    {
     "data": {
      "text/plain": [
       "True"
      ]
     },
     "execution_count": 2,
     "metadata": {},
     "output_type": "execute_result"
    }
   ],
   "source": [
    "load_dotenv(override=True)"
   ]
  },
  {
   "cell_type": "code",
   "execution_count": 5,
   "id": "71207537",
   "metadata": {},
   "outputs": [],
   "source": [
    "# # Let's just check emails are working for you\n",
    "\n",
    "# def send_test_email():\n",
    "#     sg = sendgrid.SendGridAPIClient(api_key=os.environ.get('SENDGRID_API_KEY'))\n",
    "#     from_email = Email(\"ed@edwarddonner.com\")  # Change to your verified sender\n",
    "#     to_email = To(\"ed.donner@gmail.com\")  # Change to your recipient\n",
    "#     content = Content(\"text/plain\", \"This is an important test email\")\n",
    "#     mail = Mail(from_email, to_email, \"Test email\", content).get()\n",
    "#     response = sg.client.mail.send.post(request_body=mail)\n",
    "#     print(response.status_code)\n",
    "\n",
    "# send_test_email()"
   ]
  },
  {
   "cell_type": "code",
   "execution_count": 7,
   "id": "671649b2",
   "metadata": {},
   "outputs": [
    {
     "name": "stdout",
     "output_type": "stream",
     "text": [
      "API Key exists: True\n",
      "Email sent successfully!\n",
      "Status code: 202\n",
      "Response body: b''\n",
      "Response headers: Server: nginx\n",
      "Date: Wed, 20 Aug 2025 01:30:31 GMT\n",
      "Content-Length: 0\n",
      "Connection: close\n",
      "X-Message-Id: enjU8V8STK-BYkx4M3Fubw\n",
      "Access-Control-Allow-Origin: https://sendgrid.api-docs.io\n",
      "Access-Control-Allow-Methods: POST\n",
      "Access-Control-Allow-Headers: Authorization, Content-Type, On-behalf-of, x-sg-elas-acl\n",
      "Access-Control-Max-Age: 600\n",
      "X-No-CORS-Reason: https://sendgrid.com/docs/Classroom/Basics/API/cors.html\n",
      "Strict-Transport-Security: max-age=31536000; includeSubDomains\n",
      "Content-Security-Policy: frame-ancestors 'none'\n",
      "Cache-Control: no-cache\n",
      "X-Content-Type-Options: no-sniff\n",
      "Referrer-Policy: strict-origin-when-cross-origin\n",
      "\n",
      "\n"
     ]
    }
   ],
   "source": [
    "def send_test_email():\n",
    "    # Debug: Check if environment variables are loaded\n",
    "    api_key = os.environ.get('SENDGRID_API_KEY')\n",
    "    from_email_addr = os.getenv(\"YAHOO_ID\")\n",
    "    to_email_addr = os.getenv(\"GMAIL_ID\")\n",
    "    \n",
    "    print(f\"API Key exists: {api_key is not None}\")\n",
    "    # print(f\"From email: {from_email_addr}\")\n",
    "    # print(f\"To email: {to_email_addr}\")\n",
    "    \n",
    "    if not api_key:\n",
    "        raise ValueError(\"SENDGRID_API_KEY environment variable is not set\")\n",
    "    if not from_email_addr:\n",
    "        raise ValueError(\"YAHOO_ID environment variable is not set\")\n",
    "    if not to_email_addr:\n",
    "        raise ValueError(\"GMAIL_ID environment variable is not set\")\n",
    "    \n",
    "    try:\n",
    "        # Initialize SendGrid client\n",
    "        sg = sendgrid.SendGridAPIClient(api_key=api_key)\n",
    "        \n",
    "        # Create the email message - Fixed: Remove .get() method call\n",
    "        message = Mail(\n",
    "            from_email=from_email_addr,  # Can pass string directly\n",
    "            to_emails=to_email_addr,     # Can pass string directly\n",
    "            subject=\"Test email from your AI Agent\",\n",
    "            plain_text_content=\"This is an important test email from your AI Agent\"\n",
    "        )\n",
    "        \n",
    "        # Alternative way using the helper classes (if you prefer):\n",
    "        # from_email = Email(from_email_addr)\n",
    "        # to_email = To(to_email_addr)\n",
    "        # content = Content(\"text/plain\", \"This is an important test email from your AI Agent\")\n",
    "        # message = Mail(from_email, to_email, \"Test email from your AI Agent\", content)\n",
    "        \n",
    "        # Send the email\n",
    "        response = sg.send(message)  # Simplified method call\n",
    "        \n",
    "        print(f\"Email sent successfully!\")\n",
    "        print(f\"Status code: {response.status_code}\")\n",
    "        print(f\"Response body: {response.body}\")\n",
    "        print(f\"Response headers: {response.headers}\")\n",
    "        \n",
    "    except Exception as e:\n",
    "        print(f\"Error sending email: {str(e)}\")\n",
    "        if hasattr(e, 'body'):\n",
    "            print(f\"Error body: {e.body}\")\n",
    "\n",
    "\n",
    "send_test_email()"
   ]
  },
  {
   "cell_type": "markdown",
   "id": "c9940c8d",
   "metadata": {},
   "source": [
    "# Agent Workflow\n",
    "\n",
    "#### Creating multiple sales agent that writes emails"
   ]
  },
  {
   "cell_type": "code",
   "execution_count": 8,
   "id": "6ebc260f",
   "metadata": {},
   "outputs": [],
   "source": [
    "sag1 = \"You are a sales agent working at ComplAI,\\\n",
    "a company that provides SaaS tool for SOC 2 compliance and preparing for audits, powered by AI.\\\n",
    "You write professional serious cold emails.\"\n",
    "\n",
    "    \n",
    "sag2 = \"You are a humorous, engaging sales agent working for ComplAI, \\\n",
    "a company that provides a SaaS tool for ensuring SOC2 compliance and preparing for audits, powered by AI. \\\n",
    "You write witty, engaging cold emails that are likely to get a response.\"\n",
    "\n",
    "sag3 = \"You are a busy sales agent working for ComplAI, \\\n",
    "a company that provides a SaaS tool for ensuring SOC2 compliance and preparing for audits, powered by AI. \\\n",
    "You write concise, to the point cold emails.\"\n",
    "    "
   ]
  },
  {
   "cell_type": "code",
   "execution_count": 9,
   "id": "82a3c753",
   "metadata": {},
   "outputs": [],
   "source": [
    "sales_agent1 = Agent(\n",
    "    name=\"Sales Agent 1\",\n",
    "    instructions=sag1,\n",
    "    model=\"gpt-4o-mini\")\n",
    "\n",
    "\n",
    "sales_agent2 = Agent(\n",
    "    name=\"Sales Agent 2\",\n",
    "    instructions=sag2,\n",
    "    model=\"gpt-4o-mini\")\n",
    "\n",
    "sales_agent3 = Agent(\n",
    "    name=\"Sales Agent 3\",\n",
    "    instructions=sag3,\n",
    "    model=\"gpt-4o-mini\")"
   ]
  },
  {
   "cell_type": "code",
   "execution_count": 10,
   "id": "42ab283a",
   "metadata": {},
   "outputs": [],
   "source": [
    "result = await Runner.run(sales_agent1, input=\"Write a cold sales email\")\n"
   ]
  },
  {
   "cell_type": "code",
   "execution_count": 11,
   "id": "e0da371c",
   "metadata": {},
   "outputs": [
    {
     "name": "stdout",
     "output_type": "stream",
     "text": [
      "Subject: Streamline Your SOC 2 Compliance with ComplAI\n",
      "\n",
      "Hi [Recipient's Name],\n",
      "\n",
      "I hope this message finds you well. My name is [Your Name], and I'm reaching out from ComplAI, where we specialize in helping companies like yours navigate the complexities of SOC 2 compliance effortlessly.\n",
      "\n",
      "As you know, achieving SOC 2 compliance can be a daunting task, especially when it comes to preparing for audits and maintaining ongoing compliance. Our AI-powered SaaS tool simplifies this process, automating repetitive tasks and ensuring you stay aligned with ever-changing standards.\n",
      "\n",
      "Here are a few ways ComplAI can benefit your organization:\n",
      "\n",
      "1. **Time Savings**: Reduce the hours spent on compliance preparation by over 50%.\n",
      "2. **Increased Accuracy**: Our AI-driven insights help minimize errors and maintain rigorous standards.\n",
      "3. **Seamless Audits**: Streamlined documentation and reporting make audit preparation a breeze.\n",
      "\n",
      "I would love to schedule a brief call to discuss how our solution can specifically support your compliance goals. Are you available for a quick chat this week?\n",
      "\n",
      "Looking forward to your response.\n",
      "\n",
      "Best regards,\n",
      "\n",
      "[Your Name]  \n",
      "[Your Job Title]  \n",
      "ComplAI  \n",
      "[Your Phone Number]  \n",
      "[Your LinkedIn Profile]  "
     ]
    }
   ],
   "source": [
    "# Understand the below run.streamed implementation instead of Runner.run\n",
    "\n",
    "result = Runner.run_streamed(sales_agent1, input=\"Write a cold sales email\")\n",
    "async for event in result.stream_events():\n",
    "    if event.type == \"raw_response_event\" and isinstance(event.data, ResponseTextDeltaEvent):\n",
    "        print(event.data.delta, end=\"\", flush=True)"
   ]
  },
  {
   "cell_type": "markdown",
   "id": "c2fa260f",
   "metadata": {},
   "source": [
    "##### Now creating traces for tracking conversation flow for historical purposes"
   ]
  },
  {
   "cell_type": "code",
   "execution_count": 13,
   "id": "767b131f",
   "metadata": {},
   "outputs": [
    {
     "name": "stdout",
     "output_type": "stream",
     "text": [
      "Subject: Simplify Your SOC 2 Compliance Journey with ComplAI\n",
      "\n",
      "Hi [Recipient's Name],\n",
      "\n",
      "I hope this message finds you well.\n",
      "\n",
      "My name is [Your Name], and I’m with ComplAI, where we specialize in streamlining the SOC 2 compliance process using advanced AI technology. Navigating compliance requirements can be time-consuming and complex, but our tool is designed to simplify and accelerate this journey for organizations like yours.\n",
      "\n",
      "With ComplAI, you can:\n",
      "- Automate documentation and reporting processes, reducing the workload on your team.\n",
      "- Gain real-time insights into your compliance status, ensuring you’re always prepared for audits.\n",
      "- Enhance your overall security posture without the headache of manual tracking.\n",
      "\n",
      "I’d love to offer you a quick demo to show how ComplAI can specifically benefit [Recipient's Company] and help you achieve a seamless compliance experience.\n",
      "\n",
      "Are you available for a brief 20-minute conversation this week? Please let me know your preferred time, or feel free to book directly into my calendar [insert calendar link].\n",
      "\n",
      "Looking forward to the opportunity to connect.\n",
      "\n",
      "Best regards,\n",
      "\n",
      "[Your Name]  \n",
      "[Your Position]  \n",
      "ComplAI  \n",
      "[Your Phone Number]  \n",
      "[Your Email]  \n",
      "[Website URL]  \n",
      "\n",
      "\n",
      "Subject: Let’s Make SOC2 Compliance Less “Snooze” and More “Woohoo!” 🎉\n",
      "\n",
      "Hi [Recipient's Name],\n",
      "\n",
      "Hope you’re having an amazing day! 🚀\n",
      "\n",
      "I know that when you hear the words “SOC2 compliance,” your brain may suddenly feel like it’s been sucked into a black hole of paperwork and compliance woes. But fear not! ComplAI is here to save the day, and we come equipped with more than just capes. \n",
      "\n",
      "Imagine a world where compliance tasks practically complete themselves (cue the angels singing). With our AI-powered tool, you can say goodbye to the compliance hamster wheel and hello to more free time—time you could spend… I don’t know, perfecting your coffee-making skills? ☕ \n",
      "\n",
      "Here’s how ComplAI transforms compliance from a necessary evil into a breezy Sunday stroll:\n",
      "\n",
      "- **Automated Workflows:** Say “sayonara” to tedious manual tracking.\n",
      "- **AI-Powered Insights:** Get real-time guidance like a compliance Yoda (without the gobbledygook).\n",
      "- **Audit Prep Simplified:** Turn audits from “oh no!” to “oh wow!” 🎊\n",
      "\n",
      "If you're open to a quick chat this week, I’d love to show you how to sprinkle some magic on your compliance process. Let’s make sure you’re not just compliant but also smiling all the way to the audit.\n",
      "\n",
      "Looking forward to hearing your thoughts—or your best dad jokes!\n",
      "\n",
      "Cheers!  \n",
      "[Your Name]  \n",
      "[Your Job Title]  \n",
      "ComplAI  \n",
      "[Your Phone Number]  \n",
      "[Your LinkedIn Profile]  \n",
      "\n",
      "P.S. Tell me your favorite coffee order, and I’ll bring a virtual cup to our meeting! ☕\n",
      "\n",
      "\n",
      "Subject: Simplify Your SOC 2 Compliance with ComplAI\n",
      "\n",
      "Hi [Recipient's Name],\n",
      "\n",
      "I hope this message finds you well! I’m reaching out to introduce ComplAI, our AI-driven SaaS tool designed to streamline SOC 2 compliance and audit preparation.\n",
      "\n",
      "With ComplAI, you can automate evidence collection, track compliance status, and reduce the time spent on audits, allowing your team to focus on what matters most.\n",
      "\n",
      "Would you be open to a brief conversation about how we can help you simplify your compliance process?\n",
      "\n",
      "Best,  \n",
      "[Your Name]  \n",
      "[Your Position]  \n",
      "ComplAI  \n",
      "[Your Phone Number]  \n",
      "[Your LinkedIn Profile]  \n",
      "\n",
      "\n"
     ]
    }
   ],
   "source": [
    "message = \"Write a cold sales email\"\n",
    "\n",
    "with trace(\"Parallel cold emails\"):\n",
    "    results = await asyncio.gather(\n",
    "        Runner.run(sales_agent1, message),\n",
    "        Runner.run(sales_agent2, message),\n",
    "        Runner.run(sales_agent3, message),\n",
    "    )\n",
    "\n",
    "outputs = [result.final_output for result in results]\n",
    "\n",
    "for output in outputs:\n",
    "    print(output + \"\\n\\n\")\n"
   ]
  },
  {
   "cell_type": "code",
   "execution_count": null,
   "id": "8644e3ba",
   "metadata": {},
   "outputs": [],
   "source": []
  }
 ],
 "metadata": {
  "kernelspec": {
   "display_name": "my_own_files",
   "language": "python",
   "name": "python3"
  },
  "language_info": {
   "codemirror_mode": {
    "name": "ipython",
    "version": 3
   },
   "file_extension": ".py",
   "mimetype": "text/x-python",
   "name": "python",
   "nbconvert_exporter": "python",
   "pygments_lexer": "ipython3",
   "version": "3.12.11"
  }
 },
 "nbformat": 4,
 "nbformat_minor": 5
}
