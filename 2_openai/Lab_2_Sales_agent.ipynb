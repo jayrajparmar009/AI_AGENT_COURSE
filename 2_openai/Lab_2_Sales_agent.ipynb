{
 "cells": [
  {
   "cell_type": "markdown",
   "id": "fc659c14",
   "metadata": {},
   "source": [
    "## Week 2 Day 2 <center> Sales Agent\n",
    "\n",
    "### We are going to build a simple sales agent that will:\n",
    "\n",
    "1. Be able to send email\n",
    "2. Use different tools created by us and\n",
    "3. Hand off task\n",
    "\n",
    "\n",
    "We would be creating SENDGRID_API_KEY using its free account for our agents to be able to send emails"
   ]
  },
  {
   "cell_type": "code",
   "execution_count": 1,
   "id": "900f365a",
   "metadata": {},
   "outputs": [],
   "source": [
    "from dotenv import load_dotenv\n",
    "import os\n",
    "from agents import Agent, Runner, trace, function_tool\n",
    "from openai.types.responses import ResponseTextDeltaEvent\n",
    "import sendgrid\n",
    "from sendgrid.helpers.mail import Mail, Email, To, Content\n",
    "import asyncio"
   ]
  },
  {
   "cell_type": "code",
   "execution_count": 2,
   "id": "a1087547",
   "metadata": {},
   "outputs": [
    {
     "data": {
      "text/plain": [
       "True"
      ]
     },
     "execution_count": 2,
     "metadata": {},
     "output_type": "execute_result"
    }
   ],
   "source": [
    "load_dotenv(override=True)"
   ]
  },
  {
   "cell_type": "code",
   "execution_count": 3,
   "id": "71207537",
   "metadata": {},
   "outputs": [],
   "source": [
    "# # Let's just check emails are working for you\n",
    "\n",
    "# def send_test_email():\n",
    "#     sg = sendgrid.SendGridAPIClient(api_key=os.environ.get('SENDGRID_API_KEY'))\n",
    "#     from_email = Email(\"ed@edwarddonner.com\")  # Change to your verified sender\n",
    "#     to_email = To(\"ed.donner@gmail.com\")  # Change to your recipient\n",
    "#     content = Content(\"text/plain\", \"This is an important test email\")\n",
    "#     mail = Mail(from_email, to_email, \"Test email\", content).get()\n",
    "#     response = sg.client.mail.send.post(request_body=mail)\n",
    "#     print(response.status_code)\n",
    "\n",
    "# send_test_email()"
   ]
  },
  {
   "cell_type": "code",
   "execution_count": 4,
   "id": "671649b2",
   "metadata": {},
   "outputs": [
    {
     "name": "stdout",
     "output_type": "stream",
     "text": [
      "API Key exists: True\n",
      "Email sent successfully!\n",
      "Status code: 202\n",
      "Response body: b''\n",
      "Response headers: Server: nginx\n",
      "Date: Fri, 22 Aug 2025 20:35:32 GMT\n",
      "Content-Length: 0\n",
      "Connection: close\n",
      "X-Message-Id: VdG4oG2lSXW71bDwWaHLjw\n",
      "Access-Control-Allow-Origin: https://sendgrid.api-docs.io\n",
      "Access-Control-Allow-Methods: POST\n",
      "Access-Control-Allow-Headers: Authorization, Content-Type, On-behalf-of, x-sg-elas-acl\n",
      "Access-Control-Max-Age: 600\n",
      "X-No-CORS-Reason: https://sendgrid.com/docs/Classroom/Basics/API/cors.html\n",
      "Strict-Transport-Security: max-age=31536000; includeSubDomains\n",
      "Content-Security-Policy: frame-ancestors 'none'\n",
      "Cache-Control: no-cache\n",
      "X-Content-Type-Options: no-sniff\n",
      "Referrer-Policy: strict-origin-when-cross-origin\n",
      "\n",
      "\n"
     ]
    }
   ],
   "source": [
    "def send_test_email():\n",
    "    # Debug: Check if environment variables are loaded\n",
    "    api_key = os.environ.get('SENDGRID_API_KEY')\n",
    "    from_email_addr = os.getenv(\"YAHOO_ID\")\n",
    "    to_email_addr = os.getenv(\"GMAIL_ID\")\n",
    "    \n",
    "    print(f\"API Key exists: {api_key is not None}\")\n",
    "    # print(f\"From email: {from_email_addr}\")\n",
    "    # print(f\"To email: {to_email_addr}\")\n",
    "    \n",
    "    if not api_key:\n",
    "        raise ValueError(\"SENDGRID_API_KEY environment variable is not set\")\n",
    "    if not from_email_addr:\n",
    "        raise ValueError(\"YAHOO_ID environment variable is not set\")\n",
    "    if not to_email_addr:\n",
    "        raise ValueError(\"GMAIL_ID environment variable is not set\")\n",
    "    \n",
    "    try:\n",
    "        # Initialize SendGrid client\n",
    "        sg = sendgrid.SendGridAPIClient(api_key=api_key)\n",
    "        \n",
    "        # Create the email message - Fixed: Remove .get() method call\n",
    "        message = Mail(\n",
    "            from_email=from_email_addr,  # Can pass string directly\n",
    "            to_emails=to_email_addr,     # Can pass string directly\n",
    "            subject=\"Test email from your AI Agent\",\n",
    "            plain_text_content=\"This is an important test email from your AI Agent\"\n",
    "        )\n",
    "        \n",
    "        # Alternative way using the helper classes (if you prefer):\n",
    "        # from_email = Email(from_email_addr)\n",
    "        # to_email = To(to_email_addr)\n",
    "        # content = Content(\"text/plain\", \"This is an important test email from your AI Agent\")\n",
    "        # message = Mail(from_email, to_email, \"Test email from your AI Agent\", content)\n",
    "        \n",
    "        # Send the email\n",
    "        response = sg.send(message)  # Simplified method call\n",
    "        \n",
    "        print(f\"Email sent successfully!\")\n",
    "        print(f\"Status code: {response.status_code}\")\n",
    "        print(f\"Response body: {response.body}\")\n",
    "        print(f\"Response headers: {response.headers}\")\n",
    "        \n",
    "    except Exception as e:\n",
    "        print(f\"Error sending email: {str(e)}\")\n",
    "        if hasattr(e, 'body'):\n",
    "            print(f\"Error body: {e.body}\")\n",
    "\n",
    "\n",
    "send_test_email()"
   ]
  },
  {
   "cell_type": "markdown",
   "id": "c9940c8d",
   "metadata": {},
   "source": [
    "# Agent Workflow\n",
    "\n",
    "#### Creating multiple sales agent that writes emails"
   ]
  },
  {
   "cell_type": "code",
   "execution_count": 5,
   "id": "6ebc260f",
   "metadata": {},
   "outputs": [],
   "source": [
    "sag1 = \"You are a sales agent working at ComplAI,\\\n",
    "a company that provides SaaS tool for SOC 2 compliance and preparing for audits, powered by AI.\\\n",
    "You write professional serious cold emails.\"\n",
    "\n",
    "    \n",
    "sag2 = \"You are a humorous, engaging sales agent working for ComplAI, \\\n",
    "a company that provides a SaaS tool for ensuring SOC2 compliance and preparing for audits, powered by AI. \\\n",
    "You write witty, engaging cold emails that are likely to get a response.\"\n",
    "\n",
    "sag3 = \"You are a busy sales agent working for ComplAI, \\\n",
    "a company that provides a SaaS tool for ensuring SOC2 compliance and preparing for audits, powered by AI. \\\n",
    "You write concise, to the point cold emails.\"\n",
    "    "
   ]
  },
  {
   "cell_type": "code",
   "execution_count": 6,
   "id": "82a3c753",
   "metadata": {},
   "outputs": [],
   "source": [
    "sales_agent1 = Agent(\n",
    "    name=\"Sales Agent 1\",\n",
    "    instructions=sag1,\n",
    "    model=\"gpt-4o-mini\")\n",
    "\n",
    "\n",
    "sales_agent2 = Agent(\n",
    "    name=\"Sales Agent 2\",\n",
    "    instructions=sag2,\n",
    "    model=\"gpt-4o-mini\")\n",
    "\n",
    "sales_agent3 = Agent(\n",
    "    name=\"Sales Agent 3\",\n",
    "    instructions=sag3,\n",
    "    model=\"gpt-4o-mini\")"
   ]
  },
  {
   "cell_type": "code",
   "execution_count": 7,
   "id": "4887f9a1",
   "metadata": {},
   "outputs": [
    {
     "data": {
      "text/plain": [
       "Agent(name='Sales Agent 1', handoff_description=None, tools=[], mcp_servers=[], mcp_config={}, instructions='You are a sales agent working at ComplAI,a company that provides SaaS tool for SOC 2 compliance and preparing for audits, powered by AI.You write professional serious cold emails.', prompt=None, handoffs=[], model='gpt-4o-mini', model_settings=ModelSettings(temperature=None, top_p=None, frequency_penalty=None, presence_penalty=None, tool_choice=None, parallel_tool_calls=None, truncation=None, max_tokens=None, reasoning=None, metadata=None, store=None, include_usage=None, response_include=None, extra_query=None, extra_body=None, extra_headers=None, extra_args=None), input_guardrails=[], output_guardrails=[], output_type=None, hooks=None, tool_use_behavior='run_llm_again', reset_tool_choice=True)"
      ]
     },
     "execution_count": 7,
     "metadata": {},
     "output_type": "execute_result"
    }
   ],
   "source": [
    "sales_agent1\n"
   ]
  },
  {
   "cell_type": "code",
   "execution_count": 8,
   "id": "42ab283a",
   "metadata": {},
   "outputs": [],
   "source": [
    "result = await Runner.run(sales_agent1, input=\"Write a cold sales email\")\n"
   ]
  },
  {
   "cell_type": "code",
   "execution_count": 9,
   "id": "e0da371c",
   "metadata": {},
   "outputs": [
    {
     "name": "stdout",
     "output_type": "stream",
     "text": [
      "Subject: Simplify Your SOC 2 Compliance with ComplAI\n",
      "\n",
      "Hi [Recipient's Name],\n",
      "\n",
      "I hope this message finds you well. My name is [Your Name], and I'm reaching out from ComplAI, a company dedicated to streamlining SOC 2 compliance and audit processes through the power of artificial intelligence.\n",
      "\n",
      "Navigating SOC 2 requirements can be complex and time-consuming. Our SaaS tool automates key compliance tasks, ensuring you stay organized and prepared for audits while significantly reducing manual effort. With ComplAI, you can:\n",
      "\n",
      "- **Effortlessly manage documentation and evidence**: Our platform simplifies the storage and retrieval of necessary documents, making the audit process seamless.\n",
      "- **Stay up-to-date with compliance changes**: We'll notify you of any regulations or updates relevant to your industry.\n",
      "- **Enhance collaboration across your team**: Our intuitive interface promotes visibility and accessibility among team members.\n",
      "\n",
      "I’d love the opportunity to demonstrate how ComplAI can add value to your compliance efforts and save you time. Would you be open to a brief call next week?\n",
      "\n",
      "Thank you for considering this opportunity. I look forward to your response.\n",
      "\n",
      "Best regards,\n",
      "\n",
      "[Your Name]  \n",
      "[Your Job Title]  \n",
      "ComplAI  \n",
      "[Your Phone Number]  \n",
      "[Your LinkedIn Profile] (if applicable)  \n",
      "[Website URL]  "
     ]
    }
   ],
   "source": [
    "# Understand the below run.streamed implementation instead of Runner.run\n",
    "\n",
    "result = Runner.run_streamed(sales_agent1, input=\"Write a cold sales email\")\n",
    "async for event in result.stream_events():\n",
    "    if event.type == \"raw_response_event\" and isinstance(event.data, ResponseTextDeltaEvent):\n",
    "        print(event.data.delta, end=\"\", flush=True)"
   ]
  },
  {
   "cell_type": "markdown",
   "id": "c2fa260f",
   "metadata": {},
   "source": [
    "##### Now creating traces for tracking conversation flow for historical purposes"
   ]
  },
  {
   "cell_type": "code",
   "execution_count": 10,
   "id": "767b131f",
   "metadata": {},
   "outputs": [
    {
     "name": "stdout",
     "output_type": "stream",
     "text": [
      "Subject: Streamline Your SOC 2 Compliance with ComplAI\n",
      "\n",
      "Hi [Recipient's Name],\n",
      "\n",
      "I hope this message finds you well. My name is [Your Name], and I’m with ComplAI, a company dedicated to simplifying SOC 2 compliance with our advanced AI-driven SaaS tool.\n",
      "\n",
      "Navigating the complexities of SOC 2 compliance can be a daunting task. Our platform is designed to save you time and reduce stress by automating key processes, helping you prepare for audits with greater efficiency and accuracy.\n",
      "\n",
      "Here’s what we offer:\n",
      "- **Automated Documentation:** Quickly generate and manage the documentation needed for SOC 2 compliance.\n",
      "- **Audit Preparation:** Streamline your audit processes, ensuring you’re always prepared for assessments.\n",
      "- **Real-Time Insights:** Leverage AI to gain actionable insights and stay ahead of compliance requirements.\n",
      "\n",
      "I would love to discuss how ComplAI could enhance your compliance strategy. Are you available for a brief call this week?\n",
      "\n",
      "Looking forward to your thoughts.\n",
      "\n",
      "Best regards,\n",
      "\n",
      "[Your Name]  \n",
      "[Your Job Title]  \n",
      "ComplAI  \n",
      "[Your Phone Number]  \n",
      "[Your Email Address]  \n",
      "[Website URL]  \n",
      "\n",
      "\n",
      "Subject: Let’s Talk About SOC2 Compliance – No Panic, Just AI Magic! ✨\n",
      "\n",
      "Hey [Recipient's Name],\n",
      "\n",
      "I hope this email finds you well—or at least not buried under a pile of compliance documents! 😅\n",
      "\n",
      "I’m [Your Name] from ComplAI, where we believe that SOC2 compliance doesn’t have to feel like a trip to the dentist. In fact, it can be as easy as pie (or at least like eating pie… while sitting on a beach)!\n",
      "\n",
      "Imagine a world where audits aren’t synonymous with sleepless nights, but instead, a smooth ride powered by AI. Our tool takes the headache out of compliance, making sure you’re audit-ready without all the drama. Think of us as your compliance sidekick—here to save the day (and your sanity)!\n",
      "\n",
      "Curious how it works? I’d love to schedule a quick demo and show you our magic wand in action. Just reply “Yes, please!” and I’ll handle the rest. \n",
      "\n",
      "Looking forward to turning compliance chaos into calm!\n",
      "\n",
      "Cheers,\n",
      "\n",
      "[Your Name]  \n",
      "[Your Position]  \n",
      "ComplAI  \n",
      "[Your Phone Number]  \n",
      "[Your Website]  \n",
      "\n",
      "P.S. Did I mention we love baked goods? Just saying. 😄\n",
      "\n",
      "\n",
      "Subject: Simplify Your SOC 2 Compliance Process\n",
      "\n",
      "Hi [Recipient's Name],\n",
      "\n",
      "I hope this message finds you well. I'm reaching out to introduce ComplAI, an AI-powered tool designed to streamline SOC 2 compliance and audit preparation.\n",
      "\n",
      "With our solution, you can:\n",
      "- Automate compliance tasks and reduce manual effort\n",
      "- Easily generate documentation and reports\n",
      "- Ensure ongoing compliance with real-time monitoring\n",
      "\n",
      "I’d love to show you how ComplAI can save you time and headaches. Are you available for a quick call this week?\n",
      "\n",
      "Best,  \n",
      "[Your Name]  \n",
      "[Your Position]  \n",
      "ComplAI  \n",
      "[Your Phone Number]  \n",
      "[Your LinkedIn]  \n",
      "\n",
      "\n"
     ]
    }
   ],
   "source": [
    "message = \"Write a cold sales email\"\n",
    "\n",
    "with trace(\"Parallel cold emails\"):\n",
    "    results = await asyncio.gather(\n",
    "        Runner.run(sales_agent1, message),\n",
    "        Runner.run(sales_agent2, message),\n",
    "        Runner.run(sales_agent3, message),\n",
    "    )\n",
    "\n",
    "outputs = [result.final_output for result in results]\n",
    "\n",
    "for output in outputs:\n",
    "    print(output + \"\\n\\n\")\n"
   ]
  },
  {
   "cell_type": "markdown",
   "id": "8644e3ba",
   "metadata": {},
   "source": [
    "Traces for the run above can be found on: \n",
    "\n",
    "https://platform.openai.com/traces"
   ]
  },
  {
   "cell_type": "markdown",
   "id": "9cfab4aa",
   "metadata": {},
   "source": [
    "## Agent and Tool integration"
   ]
  },
  {
   "cell_type": "markdown",
   "id": "6801d742",
   "metadata": {},
   "source": [
    "Instead of writing lengthy Json, we can now convert any functions into tool by using decorator @function_tool; look at the example below:"
   ]
  },
  {
   "cell_type": "code",
   "execution_count": 11,
   "id": "d5f16c5f",
   "metadata": {},
   "outputs": [],
   "source": [
    "@function_tool\n",
    "def send_test_email():\n",
    "    # Debug: Check if environment variables are loaded\n",
    "    api_key = os.environ.get('SENDGRID_API_KEY')\n",
    "    from_email_addr = os.getenv(\"YAHOO_ID\")\n",
    "    to_email_addr = os.getenv(\"GMAIL_ID\")\n",
    "    \n",
    "    print(f\"API Key exists: {api_key is not None}\")\n",
    "    # print(f\"From email: {from_email_addr}\")\n",
    "    # print(f\"To email: {to_email_addr}\")\n",
    "    \n",
    "    if not api_key:\n",
    "        raise ValueError(\"SENDGRID_API_KEY environment variable is not set\")\n",
    "    if not from_email_addr:\n",
    "        raise ValueError(\"YAHOO_ID environment variable is not set\")\n",
    "    if not to_email_addr:\n",
    "        raise ValueError(\"GMAIL_ID environment variable is not set\")\n",
    "    \n",
    "    try:\n",
    "        # Initialize SendGrid client\n",
    "        sg = sendgrid.SendGridAPIClient(api_key=api_key)\n",
    "        \n",
    "        # Create the email message - Fixed: Remove .get() method call\n",
    "        message = Mail(\n",
    "            from_email=from_email_addr,  # Can pass string directly\n",
    "            to_emails=to_email_addr,     # Can pass string directly\n",
    "            subject=\"Test email from your AI Agent\",\n",
    "            plain_text_content=\"This is an important test email from your AI Agent\"\n",
    "        )\n",
    "        \n",
    "        # Alternative way using the helper classes (if you prefer):\n",
    "        # from_email = Email(from_email_addr)\n",
    "        # to_email = To(to_email_addr)\n",
    "        # content = Content(\"text/plain\", \"This is an important test email from your AI Agent\")\n",
    "        # message = Mail(from_email, to_email, \"Test email from your AI Agent\", content)\n",
    "        \n",
    "        # Send the email\n",
    "        response = sg.send(message)  # Simplified method call\n",
    "        \n",
    "        print(f\"Email sent successfully!\")\n",
    "        print(f\"Status code: {response.status_code}\")\n",
    "        print(f\"Response body: {response.body}\")\n",
    "        print(f\"Response headers: {response.headers}\")\n",
    "        \n",
    "    except Exception as e:\n",
    "        print(f\"Error sending email: {str(e)}\")\n",
    "        if hasattr(e, 'body'):\n",
    "            print(f\"Error body: {e.body}\")\n"
   ]
  },
  {
   "cell_type": "code",
   "execution_count": 12,
   "id": "24f6af24",
   "metadata": {},
   "outputs": [
    {
     "data": {
      "text/plain": [
       "FunctionTool(name='send_test_email', description='', params_json_schema={'properties': {}, 'title': 'send_test_email_args', 'type': 'object', 'additionalProperties': False, 'required': []}, on_invoke_tool=<function function_tool.<locals>._create_function_tool.<locals>._on_invoke_tool at 0x113f03920>, strict_json_schema=True, is_enabled=True)"
      ]
     },
     "execution_count": 12,
     "metadata": {},
     "output_type": "execute_result"
    }
   ],
   "source": [
    "send_test_email"
   ]
  },
  {
   "cell_type": "markdown",
   "id": "d4b2ba93",
   "metadata": {},
   "source": [
    "Even an agent can be converted into tool"
   ]
  },
  {
   "cell_type": "code",
   "execution_count": 15,
   "id": "cb7cef12",
   "metadata": {},
   "outputs": [
    {
     "data": {
      "text/plain": [
       "FunctionTool(name='Sales Agent 1', description='A sales agent that writes professional serious cold emails for ComplAI', params_json_schema={'properties': {'input': {'title': 'Input', 'type': 'string'}}, 'required': ['input'], 'title': 'Sales Agent 1_args', 'type': 'object', 'additionalProperties': False}, on_invoke_tool=<function function_tool.<locals>._create_function_tool.<locals>._on_invoke_tool at 0x11465d9e0>, strict_json_schema=True, is_enabled=True)"
      ]
     },
     "execution_count": 15,
     "metadata": {},
     "output_type": "execute_result"
    }
   ],
   "source": [
    "tool1 = sales_agent1.as_tool(\n",
    "    tool_name=\"Sales Agent 1\",\n",
    "    tool_description=\"A sales agent that writes professional serious cold emails for ComplAI\")\n",
    "tool1"
   ]
  },
  {
   "cell_type": "code",
   "execution_count": 30,
   "id": "a5fc279f",
   "metadata": {},
   "outputs": [
    {
     "name": "stdout",
     "output_type": "stream",
     "text": [
      "[FunctionTool(name='sales_agent_1_1', description='Write a cold sales email', params_json_schema={'properties': {'input': {'title': 'Input', 'type': 'string'}}, 'required': ['input'], 'title': 'sales_agent_1_1_args', 'type': 'object', 'additionalProperties': False}, on_invoke_tool=<function function_tool.<locals>._create_function_tool.<locals>._on_invoke_tool at 0x115222840>, strict_json_schema=True, is_enabled=True), FunctionTool(name='sales_agent_2_2', description='Write a cold sales email', params_json_schema={'properties': {'input': {'title': 'Input', 'type': 'string'}}, 'required': ['input'], 'title': 'sales_agent_2_2_args', 'type': 'object', 'additionalProperties': False}, on_invoke_tool=<function function_tool.<locals>._create_function_tool.<locals>._on_invoke_tool at 0x115223060>, strict_json_schema=True, is_enabled=True), FunctionTool(name='sales_agent_3_3', description='Write a cold sales email', params_json_schema={'properties': {'input': {'title': 'Input', 'type': 'string'}}, 'required': ['input'], 'title': 'sales_agent_3_3_args', 'type': 'object', 'additionalProperties': False}, on_invoke_tool=<function function_tool.<locals>._create_function_tool.<locals>._on_invoke_tool at 0x115222ca0>, strict_json_schema=True, is_enabled=True), FunctionTool(name='send_test_email', description='', params_json_schema={'properties': {}, 'title': 'send_test_email_args', 'type': 'object', 'additionalProperties': False, 'required': []}, on_invoke_tool=<function function_tool.<locals>._create_function_tool.<locals>._on_invoke_tool at 0x113f03920>, strict_json_schema=True, is_enabled=True)]\n"
     ]
    }
   ],
   "source": [
    "# Converting our functions and all the agents into tool\n",
    "\n",
    "description = \"Write a cold sales email\"\n",
    "\n",
    "sales_agents = [sales_agent1, sales_agent2, sales_agent3]\n",
    "\n",
    "tools = []\n",
    "for idx, agent in enumerate(sales_agents, start=1):\n",
    "    # make a safe tool name\n",
    "    safe_name = agent.name.lower().replace(\" \", \"_\") + f\"_{idx}\"\n",
    "    \n",
    "    tool = agent.as_tool(\n",
    "        tool_name=safe_name,\n",
    "        tool_description=description\n",
    "    )\n",
    "    tools.append(tool)\n",
    "\n",
    "\n",
    "tools.append(send_test_email)\n",
    "print(tools) \n",
    "\n",
    "\n"
   ]
  },
  {
   "cell_type": "code",
   "execution_count": null,
   "id": "9460b609",
   "metadata": {},
   "outputs": [
    {
     "data": {
      "text/plain": [
       "'Sales Agent 3'"
      ]
     },
     "execution_count": 29,
     "metadata": {},
     "output_type": "execute_result"
    }
   ],
   "source": []
  },
  {
   "cell_type": "code",
   "execution_count": 31,
   "id": "825ca3a2",
   "metadata": {},
   "outputs": [
    {
     "name": "stdout",
     "output_type": "stream",
     "text": [
      "API Key exists: True\n",
      "Email sent successfully!\n",
      "Status code: 202\n",
      "Response body: b''\n",
      "Response headers: Server: nginx\n",
      "Date: Fri, 22 Aug 2025 21:01:55 GMT\n",
      "Content-Length: 0\n",
      "Connection: close\n",
      "X-Message-Id: Bh_Geu6jRcOkP1VMfN052g\n",
      "Access-Control-Allow-Origin: https://sendgrid.api-docs.io\n",
      "Access-Control-Allow-Methods: POST\n",
      "Access-Control-Allow-Headers: Authorization, Content-Type, On-behalf-of, x-sg-elas-acl\n",
      "Access-Control-Max-Age: 600\n",
      "X-No-CORS-Reason: https://sendgrid.com/docs/Classroom/Basics/API/cors.html\n",
      "Strict-Transport-Security: max-age=31536000; includeSubDomains\n",
      "Content-Security-Policy: frame-ancestors 'none'\n",
      "Cache-Control: no-cache\n",
      "X-Content-Type-Options: no-sniff\n",
      "Referrer-Policy: strict-origin-when-cross-origin\n",
      "\n",
      "\n"
     ]
    }
   ],
   "source": [
    "sales_manager_instructions = \"\"\"You're sales manager of the company ComplAI, you use tools given to you to help you write cold sales emails to potential clients. \\\n",
    "    You never write email yourself, you always use the tools given to you. \\\n",
    "    You always use the most appropriate tool for the job. \\\n",
    "    Before sending email, you use all the 3 sales agents tool to write 3 different versions of cold sales email, \\\n",
    "    then you pick the best one and send it using the send_test_email tool.\"\"\"\n",
    "\n",
    "\n",
    "\n",
    "\n",
    "sales_manager = Agent(\n",
    "    name=\"Sales Manager\",\n",
    "    instructions=sales_manager_instructions,\n",
    "    tools=tools,\n",
    "    model=\"gpt-4o-mini\"\n",
    ")\n",
    "\n",
    "\n",
    "message = \"Send a cold sales email addressed to 'Dear CEO'\"\n",
    "\n",
    "with trace(\"Sales manager\"):\n",
    "    result = await Runner.run(sales_manager, message)\n",
    "\n",
    "\n"
   ]
  },
  {
   "cell_type": "markdown",
   "id": "c1d3df4b",
   "metadata": {},
   "source": [
    "#### What is Handoff in Agentic workflow?\n",
    "\n",
    "A handoff is when one agent finishes its part of the work and explicitly passes control (along with context/results) to another agent.\n",
    "Think of it as “passing the baton” in a relay race.\n",
    "\n",
    "* Tools are things an agent can call temporarily (like a calculator, or another agent wrapped as a callable). The calling agent still stays in control.\n",
    "\n",
    "* Handoffs are when the agent says: “I’m done, someone else should now take over” — and control switches to another agent.\n",
    "\n",
    "\n",
    "We will learn the above concept with the example below, by utilizing subject creator and html instruction creator agent"
   ]
  },
  {
   "cell_type": "code",
   "execution_count": 32,
   "id": "7c4f2d01",
   "metadata": {},
   "outputs": [],
   "source": [
    "subject_instructions = \"You're an expert at writing email subjects that get emails opened. \\\n",
    "    You write concise, engaging, and relevant subject lines that entice recipients to open the email based on the email text provided\"\n",
    "\n",
    "subject_agent = Agent(\n",
    "    name=\"Subject Agent\",\n",
    "    instructions=subject_instructions,\n",
    "    model=\"gpt-4o-mini\"\n",
    ")\n",
    "\n",
    "subject_tool = subject_agent.as_tool(\n",
    "    tool_name=\"subject_writer\",\n",
    "    tool_description=\"Writes engaging email subject lines based on the email content provided\"\n",
    ")\n",
    "\n",
    "html_converter_instructions = \"You can convert a text email body to an HTML email body. \\\n",
    "You are given a text email body which might have some markdown \\\n",
    "and you need to convert it to an HTML email body with simple, clear, compelling layout and design.\"\n",
    "\n",
    "html_converter_agent = Agent(\n",
    "    name=\"HTML Converter Agent\",\n",
    "    instructions=html_converter_instructions,\n",
    "    model=\"gpt-4o-mini\"\n",
    ")\n",
    "\n",
    "html_converter_tool = html_converter_agent.as_tool(\n",
    "    tool_name=\"html_converter\",\n",
    "    tool_description=\"Converts a text email body to an HTML email body\"\n",
    ")\n",
    "\n",
    "\n",
    "handoff_tools = [subject_tool, html_converter_tool, send_test_email]\n",
    "\n"
   ]
  },
  {
   "cell_type": "code",
   "execution_count": 33,
   "id": "0b1172d1",
   "metadata": {},
   "outputs": [
    {
     "data": {
      "text/plain": [
       "[FunctionTool(name='subject_writer', description='Writes engaging email subject lines based on the email content provided', params_json_schema={'properties': {'input': {'title': 'Input', 'type': 'string'}}, 'required': ['input'], 'title': 'subject_writer_args', 'type': 'object', 'additionalProperties': False}, on_invoke_tool=<function function_tool.<locals>._create_function_tool.<locals>._on_invoke_tool at 0x11515c400>, strict_json_schema=True, is_enabled=True),\n",
       " FunctionTool(name='html_converter', description='Converts a text email body to an HTML email body', params_json_schema={'properties': {'input': {'title': 'Input', 'type': 'string'}}, 'required': ['input'], 'title': 'html_converter_args', 'type': 'object', 'additionalProperties': False}, on_invoke_tool=<function function_tool.<locals>._create_function_tool.<locals>._on_invoke_tool at 0x11515e7a0>, strict_json_schema=True, is_enabled=True),\n",
       " FunctionTool(name='send_test_email', description='', params_json_schema={'properties': {}, 'title': 'send_test_email_args', 'type': 'object', 'additionalProperties': False, 'required': []}, on_invoke_tool=<function function_tool.<locals>._create_function_tool.<locals>._on_invoke_tool at 0x113f03920>, strict_json_schema=True, is_enabled=True)]"
      ]
     },
     "execution_count": 33,
     "metadata": {},
     "output_type": "execute_result"
    }
   ],
   "source": [
    "handoff_tools"
   ]
  },
  {
   "cell_type": "code",
   "execution_count": 36,
   "id": "c31c88f7",
   "metadata": {},
   "outputs": [],
   "source": [
    "email_formatter_instructions = \"You are an email formatter and sender. You receive the body of an email to be sent. \\\n",
    "You first use the subject_writer tool to write a subject for the email, then use the html_converter tool to convert the body to HTML. \\\n",
    "Finally, you use the send_html_email tool to send the email with the subject and HTML body.\"\n",
    "\n",
    "emailer_agent = Agent(\n",
    "    name=\"Email Manager\",\n",
    "    instructions=email_formatter_instructions,\n",
    "    tools=handoff_tools,\n",
    "    model=\"gpt-4o-mini\",\n",
    "    handoff_description=\"Convert an email to HTML and send it\"\n",
    ")\n",
    "\n"
   ]
  },
  {
   "cell_type": "code",
   "execution_count": 39,
   "id": "80667087",
   "metadata": {},
   "outputs": [],
   "source": [
    "# Now recreating sales manager agent to use handoff tools\n",
    "\n",
    "sales_manager_instructions = \"You're sales manager of the company ComplAI, you use tools given to you to help you write cold sales emails to potential clients. \\\n",
    "    You never write email yourself, you always use the tools given to you. \\\n",
    "    You use all 3 sales agents tool to write 3 different versions of cold sales email, and then choose the best one. \\\n",
    "    You can use tools multiple times if not satisfied with the result. \\\n",
    "    You select the single best email using your own judgement of which email will be most effective. \\\n",
    "    After picking the email, you handoff to the Email Manager agent to format and send the email.\"\n",
    "\n",
    "\n",
    "sales_manager = Agent(          \n",
    "    name=\"Sales Manager\",\n",
    "    instructions=sales_manager_instructions,\n",
    "    tools=tools,\n",
    "    model=\"gpt-4o-mini\",\n",
    "    handoffs=[emailer_agent]\n",
    ")"
   ]
  },
  {
   "cell_type": "code",
   "execution_count": 40,
   "id": "0f8dbd1f",
   "metadata": {},
   "outputs": [
    {
     "name": "stdout",
     "output_type": "stream",
     "text": [
      "API Key exists: True\n",
      "Email sent successfully!\n",
      "Status code: 202\n",
      "Response body: b''\n",
      "Response headers: Server: nginx\n",
      "Date: Fri, 22 Aug 2025 21:33:10 GMT\n",
      "Content-Length: 0\n",
      "Connection: close\n",
      "X-Message-Id: nCJEY953Q6mDHaFi80OiQg\n",
      "Access-Control-Allow-Origin: https://sendgrid.api-docs.io\n",
      "Access-Control-Allow-Methods: POST\n",
      "Access-Control-Allow-Headers: Authorization, Content-Type, On-behalf-of, x-sg-elas-acl\n",
      "Access-Control-Max-Age: 600\n",
      "X-No-CORS-Reason: https://sendgrid.com/docs/Classroom/Basics/API/cors.html\n",
      "Strict-Transport-Security: max-age=31536000; includeSubDomains\n",
      "Content-Security-Policy: frame-ancestors 'none'\n",
      "Cache-Control: no-cache\n",
      "X-Content-Type-Options: no-sniff\n",
      "Referrer-Policy: strict-origin-when-cross-origin\n",
      "\n",
      "\n"
     ]
    }
   ],
   "source": [
    "message = \"Send out a cold sales email addressed to Dear CEO from Alice\"\n",
    "\n",
    "with trace(\"Automated SDR\"):\n",
    "    result = await Runner.run(sales_manager, message)"
   ]
  },
  {
   "cell_type": "code",
   "execution_count": null,
   "id": "e2615e2f",
   "metadata": {},
   "outputs": [],
   "source": []
  }
 ],
 "metadata": {
  "kernelspec": {
   "display_name": "my_own_files",
   "language": "python",
   "name": "python3"
  },
  "language_info": {
   "codemirror_mode": {
    "name": "ipython",
    "version": 3
   },
   "file_extension": ".py",
   "mimetype": "text/x-python",
   "name": "python",
   "nbconvert_exporter": "python",
   "pygments_lexer": "ipython3",
   "version": "3.12.11"
  }
 },
 "nbformat": 4,
 "nbformat_minor": 5
}
