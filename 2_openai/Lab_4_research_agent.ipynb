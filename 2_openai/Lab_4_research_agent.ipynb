{
 "cells": [
  {
   "cell_type": "markdown",
   "id": "e0395274",
   "metadata": {},
   "source": [
    "## Building Research Agent tool"
   ]
  },
  {
   "cell_type": "code",
   "execution_count": 2,
   "id": "1f3a30b8",
   "metadata": {},
   "outputs": [],
   "source": [
    "from agents import Agent, WebSearchTool, trace, Runner, gen_trace_id, function_tool\n",
    "from agents.model_settings import ModelSettings\n",
    "from pydantic import BaseModel, Field\n",
    "from dotenv import load_dotenv\n",
    "import os\n",
    "import sendgrid\n",
    "import asyncio\n",
    "from sendgrid.helpers.mail import Mail, Email, To, Content\n",
    "from typing import Dict\n",
    "from IPython.display import display, Markdown"
   ]
  },
  {
   "cell_type": "code",
   "execution_count": 23,
   "id": "a2bb5741",
   "metadata": {},
   "outputs": [
    {
     "data": {
      "text/plain": [
       "True"
      ]
     },
     "execution_count": 23,
     "metadata": {},
     "output_type": "execute_result"
    }
   ],
   "source": [
    "load_dotenv(override=True)"
   ]
  },
  {
   "cell_type": "markdown",
   "id": "e8a236ca",
   "metadata": {},
   "source": [
    "### We'd be utilizing below tools from SDK:\n",
    "\n",
    "1. WebSearchTool\n",
    "2. FileSearchTool\n",
    "3. ComputerTool"
   ]
  },
  {
   "cell_type": "code",
   "execution_count": 4,
   "id": "f642b813",
   "metadata": {},
   "outputs": [],
   "source": [
    "INSTRUCTIONS = \"You are a research assistant. Given a search term, you search the web for that term and \\\n",
    "produce a concise summary of the results. The summary must 2-3 paragraphs and less than 300 \\\n",
    "words. Capture the main points. Write succintly, no need to have complete sentences or good \\\n",
    "grammar. This will be consumed by someone synthesizing a report, so it's vital you capture the \\\n",
    "essence and ignore any fluff. Do not include any additional commentary other than the summary itself.\"\n",
    "\n",
    "search_agent = Agent(\n",
    "    name=\"Search agent\",\n",
    "    instructions=INSTRUCTIONS,\n",
    "    tools=[WebSearchTool(search_context_size=\"low\")],\n",
    "    model=\"gpt-4o-mini\",\n",
    "    model_settings=ModelSettings(tool_choice=\"required\"),\n",
    ")"
   ]
  },
  {
   "cell_type": "code",
   "execution_count": 8,
   "id": "e0031031",
   "metadata": {},
   "outputs": [
    {
     "data": {
      "text/markdown": [
       "**Search Agent Result:** RunResult:\n",
       "- Last agent: Agent(name=\"Search agent\", ...)\n",
       "- Final output (str):\n",
       "    As of August 2025, several AI agent frameworks have emerged, each offering unique capabilities for developing intelligent, autonomous systems.\n",
       "    \n",
       "    **LangChain** is a widely adopted open-source framework that enables developers to build applications powered by large language models (LLMs). Its modular design allows for the integration of various components, including prompt templates, agent modules for task automation, memory systems for context retention, and dynamic retrieval components for real-time data access. LangChain supports multiple LLMs and offers a rich ecosystem of tools, making it suitable for applications such as conversational agents, document analysis, and code generation. ([dev.to](https://dev.to/surgedatalab/best-5-frameworks-for-agentic-ai-in-2025-enabling-next-gen-intelligent-multi-agent-systems-40ce?utm_source=openai))\n",
       "    \n",
       "    **LangGraph**, built upon LangChain, focuses on creating stateful, graph-based AI agent systems that can incorporate human intervention. It employs a graph-based approach to define the workflow of prompts and agent interactions, offering explicit control over the flow of information and allowing for branching and debugging of complex agent behaviors. LangGraph is ideal for applications requiring complex customer service flows with escalation paths to human agents and guided decision-making systems. ([radarmagazine.com](https://www.radarmagazine.com/top-5-ai-agent-frameworks-it-executives-should-be-watching-in-2025/?utm_source=openai))\n",
       "    \n",
       "    **AutoGen**, developed by Microsoft, specializes in orchestrating multiple AI agents to form autonomous, event-driven systems capable of handling complex, multi-agent tasks seamlessly. It enables advanced multi-agent conversations, tool usage, and memory, and is tightly integrated with Microsoft's Semantic Kernel and Azure services for secure enterprise deployment. ([medium.com](https://medium.com/%40rajadityasatellite/2025-is-the-year-of-ai-agent-frameworks-cb24e3f9ffc7?utm_source=openai))\n",
       "    \n",
       "    **CrewAI** adopts a role-based agent collaboration approach, facilitating the creation of specialized agents that collaborate on complex projects akin to a team environment. It offers dynamic task planning, real-time performance monitoring, and orchestration of a variety of agents as distinct workers. CrewAI is suitable for complex projects requiring teamwork among agents, such as software development or project management. ([linkedin.com](https://www.linkedin.com/pulse/ai-agent-frameworks-june-2025-comprehensive-overview-chadi-abi-fadel-wcu5c?utm_source=openai))\n",
       "    \n",
       "    **Eliza** is an open-source, Web3-friendly AI agent operating system that seamlessly integrates with Web3 applications. It allows for reading and writing blockchain data, interacting with smart contracts, and is fully controlled by the user through regular TypeScript programming. Eliza emphasizes stable performance through pragmatic implementation of its runtime components. ([arxiv.org](https://arxiv.org/abs/2501.06781?utm_source=openai))\n",
       "    \n",
       "    **Agent Lightning** is a flexible and extensible framework that enables reinforcement learning-based training of LLMs for any AI agent. It achieves complete decoupling between agent execution and training, allowing seamless integration with existing agents developed via diverse methods. Agent Lightning introduces a hierarchical RL algorithm, LightningRL, which contains a credit assignment module, enabling RL to handle complex interaction logic, such as multi-agent scenarios and dynamic workflows. ([arxiv.org](https://arxiv.org/abs/2508.03680?utm_source=openai))\n",
       "    \n",
       "    **AutoAgent** is a fully-automated and zero-code framework for LLM agents, enabling users to create and deploy LLM agents through natural language alone. Operating as an autonomous Agent Operating System, AutoAgent comprises key components such as Agentic System Utilities, LLM-powered Actionable Engine, Self-Managing File System, and Self-Play Agent Customization module. It serves as a versatile multi-agent system for general AI assistants and has demonstrated effectiveness in generalist multi-agent tasks, surpassing existing state-of-the-art methods. ([arxiv.org](https://arxiv.org/abs/2502.05957?utm_source=openai))\n",
       "    \n",
       "    These frameworks represent the forefront of AI agent development, each contributing to the evolution of intelligent, autonomous systems across various applications. \n",
       "- 2 new item(s)\n",
       "- 1 raw response(s)\n",
       "- 0 input guardrail result(s)\n",
       "- 0 output guardrail result(s)\n",
       "(See `RunResult` for more details)"
      ],
      "text/plain": [
       "<IPython.core.display.Markdown object>"
      ]
     },
     "metadata": {},
     "output_type": "display_data"
    }
   ],
   "source": [
    "message = \"Latest AI Agent frameworks in 2025\"\n",
    "\n",
    "with trace('search'):\n",
    "    result = await Runner.run(search_agent, message)\n",
    "    display(Markdown(f\"**Search Agent Result:** {result}\"))"
   ]
  },
  {
   "cell_type": "code",
   "execution_count": 14,
   "id": "8086c114",
   "metadata": {},
   "outputs": [],
   "source": [
    "number_searches = 3 #To avoid getting charged for too many searches\n",
    "\n",
    "INSTRUCTIONS = f\"You are a helpful research assistant.  Given a query, come up with a set of web searches \\\n",
    "to perform to best answer the query. Output {number_searches} terms to query for.\"\n",
    "\n",
    "class WebSearchItem(BaseModel):\n",
    "    reason: str = Field(description=\"Why this search term is relevant to the query\")\n",
    "    query: str = Field(description=\"The search term to use\")\n",
    "\n",
    "\n",
    "class WebSearchPlan(BaseModel):\n",
    "    searches: list[WebSearchItem] = Field(description=f\"A list of {number_searches} search terms to query for\")\n",
    "\n",
    "\n",
    "plan_agent = Agent(\n",
    "    name=\"Planneragent\",\n",
    "    instructions=INSTRUCTIONS,\n",
    "    model=\"gpt-4o-mini\",\n",
    "    output_type=WebSearchPlan,\n",
    ")\n",
    "\n",
    "# planner_agent = Agent(\n",
    "#     name=\"PlannerAgent\",\n",
    "#     instructions=INSTRUCTIONS,\n",
    "#     model=\"gpt-4o-mini\",\n",
    "#     output_type=WebSearchPlan,\n",
    "# )"
   ]
  },
  {
   "cell_type": "code",
   "execution_count": 16,
   "id": "f61da20d",
   "metadata": {},
   "outputs": [
    {
     "name": "stdout",
     "output_type": "stream",
     "text": [
      "searches=[WebSearchItem(reason='To find the most current frameworks available for AI agents in 2025.', query='latest AI agent frameworks 2025'), WebSearchItem(reason='To identify trends and new technologies in AI agent development for the year 2025.', query='AI agent development trends 2025'), WebSearchItem(reason='To explore industry standards and tools for creating AI agents in 2025.', query='popular AI agent tools frameworks 2025')]\n"
     ]
    }
   ],
   "source": [
    "message = \"Latest AI Agent frameworks in 2025\"\n",
    "\n",
    "with trace('search'):\n",
    "    result = await Runner.run(plan_agent, message)\n",
    "    print(result.final_output)"
   ]
  },
  {
   "cell_type": "code",
   "execution_count": 25,
   "id": "f6574587",
   "metadata": {},
   "outputs": [],
   "source": [
    "@function_tool\n",
    "def send_html_email(subject: str, html_body: str) -> Dict[str, str]:\n",
    "    \"\"\" Send out an email with the given subject and HTML body to all sales prospects \"\"\"\n",
    "    sg = sendgrid.SendGridAPIClient(api_key=os.environ.get('SENDGRID_API_KEY'))\n",
    "    from_email = os.getenv(\"YAHOO_ID\")\n",
    "    to_email = os.getenv(\"GMAIL_ID\")\n",
    "    content = Content(\"text/html\", html_body)\n",
    "    mail = Mail(from_email, to_email, subject, content).get()\n",
    "    response = sg.client.mail.send.post(request_body=mail)\n",
    "    return {\"status\": \"success\"}"
   ]
  },
  {
   "cell_type": "code",
   "execution_count": 26,
   "id": "feb5b988",
   "metadata": {},
   "outputs": [
    {
     "data": {
      "text/plain": [
       "FunctionTool(name='send_html_email', description='Send out an email with the given subject and HTML body to all sales prospects', params_json_schema={'properties': {'subject': {'title': 'Subject', 'type': 'string'}, 'html_body': {'title': 'Html Body', 'type': 'string'}}, 'required': ['subject', 'html_body'], 'title': 'send_html_email_args', 'type': 'object', 'additionalProperties': False}, on_invoke_tool=<function function_tool.<locals>._create_function_tool.<locals>._on_invoke_tool at 0x116765580>, strict_json_schema=True, is_enabled=True)"
      ]
     },
     "execution_count": 26,
     "metadata": {},
     "output_type": "execute_result"
    }
   ],
   "source": [
    "send_html_email"
   ]
  },
  {
   "cell_type": "code",
   "execution_count": null,
   "id": "c20c753e",
   "metadata": {},
   "outputs": [],
   "source": []
  },
  {
   "cell_type": "code",
   "execution_count": null,
   "id": "d920111e",
   "metadata": {},
   "outputs": [],
   "source": []
  },
  {
   "cell_type": "code",
   "execution_count": null,
   "id": "9ece3712",
   "metadata": {},
   "outputs": [],
   "source": []
  }
 ],
 "metadata": {
  "kernelspec": {
   "display_name": "my_own_files",
   "language": "python",
   "name": "python3"
  },
  "language_info": {
   "codemirror_mode": {
    "name": "ipython",
    "version": 3
   },
   "file_extension": ".py",
   "mimetype": "text/x-python",
   "name": "python",
   "nbconvert_exporter": "python",
   "pygments_lexer": "ipython3",
   "version": "3.12.11"
  }
 },
 "nbformat": 4,
 "nbformat_minor": 5
}
