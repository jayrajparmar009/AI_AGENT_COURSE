{
 "cells": [
  {
   "cell_type": "markdown",
   "id": "e0395274",
   "metadata": {},
   "source": [
    "## Building Research Agent tool"
   ]
  },
  {
   "cell_type": "code",
   "execution_count": 2,
   "id": "1f3a30b8",
   "metadata": {},
   "outputs": [],
   "source": [
    "from agents import Agent, WebSearchTool, trace, Runner, gen_trace_id, function_tool\n",
    "from agents.model_settings import ModelSettings\n",
    "from pydantic import BaseModel, Field\n",
    "from dotenv import load_dotenv\n",
    "import os\n",
    "import sendgrid\n",
    "import asyncio\n",
    "from sendgrid.helpers.mail import Mail, Email, To, Content\n",
    "from typing import Dict\n",
    "from IPython.display import display, Markdown"
   ]
  },
  {
   "cell_type": "code",
   "execution_count": 3,
   "id": "a2bb5741",
   "metadata": {},
   "outputs": [
    {
     "data": {
      "text/plain": [
       "True"
      ]
     },
     "execution_count": 3,
     "metadata": {},
     "output_type": "execute_result"
    }
   ],
   "source": [
    "load_dotenv(override=True)"
   ]
  },
  {
   "cell_type": "markdown",
   "id": "e8a236ca",
   "metadata": {},
   "source": [
    "### We'd be utilizing below tools from SDK:\n",
    "\n",
    "1. WebSearchTool\n",
    "2. FileSearchTool\n",
    "3. ComputerTool"
   ]
  },
  {
   "cell_type": "code",
   "execution_count": 4,
   "id": "f642b813",
   "metadata": {},
   "outputs": [],
   "source": [
    "INSTRUCTIONS = \"You are a research assistant. Given a search term, you search the web for that term and \\\n",
    "produce a concise summary of the results. The summary must 2-3 paragraphs and less than 300 \\\n",
    "words. Capture the main points. Write succintly, no need to have complete sentences or good \\\n",
    "grammar. This will be consumed by someone synthesizing a report, so it's vital you capture the \\\n",
    "essence and ignore any fluff. Do not include any additional commentary other than the summary itself.\"\n",
    "\n",
    "search_agent = Agent(\n",
    "    name=\"Search agent\",\n",
    "    instructions=INSTRUCTIONS,\n",
    "    tools=[WebSearchTool(search_context_size=\"low\")],\n",
    "    model=\"gpt-4o-mini\",\n",
    "    model_settings=ModelSettings(tool_choice=\"required\"),\n",
    ")"
   ]
  },
  {
   "cell_type": "code",
   "execution_count": 5,
   "id": "e0031031",
   "metadata": {},
   "outputs": [
    {
     "data": {
      "text/markdown": [
       "**Search Agent Result:** RunResult:\n",
       "- Last agent: Agent(name=\"Search agent\", ...)\n",
       "- Final output (str):\n",
       "    As of August 2025, several AI agent frameworks have emerged, each offering unique capabilities for developing intelligent, autonomous systems:\n",
       "    \n",
       "    - **LangChain**: A modular framework for building applications powered by large language models (LLMs). It provides tools for chaining prompts, models, memory, and external tools, facilitating the creation of complex workflows. ([medium.com](https://medium.com/%40elisowski/top-ai-agent-frameworks-in-2025-9bcedab2e239?utm_source=openai))\n",
       "    \n",
       "    - **LangGraph**: An extension of LangChain, LangGraph focuses on stateful, graph-based agent systems. It offers explicit control over agent workflows, supporting branching and debugging of complex behaviors. ([radarmagazine.com](https://www.radarmagazine.com/top-5-ai-agent-frameworks-it-executives-should-be-watching-in-2025/?utm_source=openai))\n",
       "    \n",
       "    - **CrewAI**: This framework adopts a role-based agent collaboration approach, enabling the creation of specialized agents that work together on complex projects, similar to a team environment. ([linkedin.com](https://www.linkedin.com/pulse/ai-agent-frameworks-june-2025-comprehensive-overview-chadi-abi-fadel-wcu5c?utm_source=openai))\n",
       "    \n",
       "    - **AutoGen**: Developed by Microsoft, AutoGen specializes in orchestrating multiple AI agents to form autonomous, event-driven systems capable of handling complex, multi-agent tasks seamlessly. ([linkedin.com](https://www.linkedin.com/pulse/ai-agent-frameworks-june-2025-comprehensive-overview-chadi-abi-fadel-wcu5c?utm_source=openai))\n",
       "    \n",
       "    - **Eliza**: A Web3-friendly AI agent operating system that integrates seamlessly with blockchain applications, allowing for the deployment of decentralized AI agents. ([arxiv.org](https://arxiv.org/abs/2501.06781?utm_source=openai))\n",
       "    \n",
       "    - **Agent Lightning**: A flexible and extensible framework that enables reinforcement learning-based training of LLMs for any AI agent, facilitating complex interaction logic and multi-agent scenarios. ([arxiv.org](https://arxiv.org/abs/2508.03680?utm_source=openai))\n",
       "    \n",
       "    - **AutoAgent**: A fully-automated, zero-code framework for LLM agents, allowing users to create and deploy agents through natural language alone, making AI agent development accessible to non-technical users. ([arxiv.org](https://arxiv.org/abs/2502.05957?utm_source=openai))\n",
       "    \n",
       "    These frameworks represent the forefront of AI agent development, each catering to different needs and applications in the rapidly evolving field of artificial intelligence. \n",
       "- 2 new item(s)\n",
       "- 1 raw response(s)\n",
       "- 0 input guardrail result(s)\n",
       "- 0 output guardrail result(s)\n",
       "(See `RunResult` for more details)"
      ],
      "text/plain": [
       "<IPython.core.display.Markdown object>"
      ]
     },
     "metadata": {},
     "output_type": "display_data"
    }
   ],
   "source": [
    "message = \"Latest AI Agent frameworks in 2025\"\n",
    "\n",
    "with trace('search'):\n",
    "    result = await Runner.run(search_agent, message)\n",
    "    display(Markdown(f\"**Search Agent Result:** {result}\"))"
   ]
  },
  {
   "cell_type": "code",
   "execution_count": 6,
   "id": "8086c114",
   "metadata": {},
   "outputs": [],
   "source": [
    "number_searches = 3 #To avoid getting charged for too many searches\n",
    "\n",
    "INSTRUCTIONS = f\"You are a helpful research assistant.  Given a query, come up with a set of web searches \\\n",
    "to perform to best answer the query. Output {number_searches} terms to query for.\"\n",
    "\n",
    "class WebSearchItem(BaseModel):\n",
    "    reason: str = Field(description=\"Why this search term is relevant to the query\")\n",
    "    query: str = Field(description=\"The search term to use\")\n",
    "\n",
    "\n",
    "class WebSearchPlan(BaseModel):\n",
    "    searches: list[WebSearchItem] = Field(description=f\"A list of {number_searches} search terms to query for\")\n",
    "\n",
    "\n",
    "plan_agent = Agent(\n",
    "    name=\"Planneragent\",\n",
    "    instructions=INSTRUCTIONS,\n",
    "    model=\"gpt-4o-mini\",\n",
    "    output_type=WebSearchPlan,\n",
    ")\n",
    "\n",
    "# planner_agent = Agent(\n",
    "#     name=\"PlannerAgent\",\n",
    "#     instructions=INSTRUCTIONS,\n",
    "#     model=\"gpt-4o-mini\",\n",
    "#     output_type=WebSearchPlan,\n",
    "# )"
   ]
  },
  {
   "cell_type": "code",
   "execution_count": null,
   "id": "f61da20d",
   "metadata": {},
   "outputs": [
    {
     "name": "stdout",
     "output_type": "stream",
     "text": [
      "searches=[WebSearchItem(reason='To find a comprehensive list of AI agent frameworks released or updated in 2025.', query='latest AI agent frameworks 2025'), WebSearchItem(reason='To explore expert analyses and reviews of AI agents that are leading in 2025.', query='best AI agents frameworks reviews 2025'), WebSearchItem(reason='To gather information about emerging trends and technologies in AI agent development for 2025.', query='trends in AI agent frameworks 2025')]\n"
     ]
    }
   ],
   "source": [
    "message = \"Latest AI Agent frameworks in 2025\"\n",
    "\n",
    "with trace('search'):\n",
    "    result = await Runner.run(plan_agent, message)\n",
    "    print(result.final_output)"
   ]
  },
  {
   "cell_type": "code",
   "execution_count": 25,
   "id": "f6574587",
   "metadata": {},
   "outputs": [],
   "source": [
    "@function_tool\n",
    "def send_email1(subject: str, html_body: str) -> Dict[str, str]:\n",
    "    \"\"\" Send out an email with the given subject and HTML body to all sales prospects \"\"\"\n",
    "    sg = sendgrid.SendGridAPIClient(api_key=os.environ.get('SENDGRID_API_KEY'))\n",
    "    from_email = os.getenv(\"YAHOO_ID\")\n",
    "    to_email = os.getenv(\"GMAIL_ID\")\n",
    "    content = Content(\"text/html\", html_body)\n",
    "    mail = Mail(from_email, to_email, subject, content).get()\n",
    "    response = sg.client.mail.send.post(request_body=mail)\n",
    "    return {\"status\": \"success\"}\n"
   ]
  },
  {
   "cell_type": "code",
   "execution_count": 28,
   "id": "feb5b988",
   "metadata": {},
   "outputs": [
    {
     "data": {
      "text/plain": [
       "FunctionTool(name='send_email1', description='Send out an email with the given subject and HTML body to all sales prospects', params_json_schema={'properties': {'subject': {'title': 'Subject', 'type': 'string'}, 'html_body': {'title': 'Html Body', 'type': 'string'}}, 'required': ['subject', 'html_body'], 'title': 'send_email1_args', 'type': 'object', 'additionalProperties': False}, on_invoke_tool=<function function_tool.<locals>._create_function_tool.<locals>._on_invoke_tool at 0x1110460c0>, strict_json_schema=True, is_enabled=True)"
      ]
     },
     "execution_count": 28,
     "metadata": {},
     "output_type": "execute_result"
    }
   ],
   "source": [
    "send_email1"
   ]
  },
  {
   "cell_type": "code",
   "execution_count": 26,
   "id": "c20c753e",
   "metadata": {},
   "outputs": [],
   "source": [
    "# Creating email agent that sends nicely formatted HTML email...\n",
    "\n",
    "INSTRUCTIONS = \"\"\"You are able to send a nicely formatted HTML email based on a detailed report.\n",
    "You will be provided with a detailed report. You should use your tool to send one email, providing the \n",
    "report converted into clean, well presented HTML with an appropriate subject line.\"\"\"\n",
    "\n",
    "email_agent = Agent(\n",
    "    name=\"Email agent\",\n",
    "    instructions=INSTRUCTIONS,\n",
    "    tools=[send_email1],\n",
    "    model=\"gpt-4o-mini\",\n",
    ")\n",
    "\n"
   ]
  },
  {
   "cell_type": "code",
   "execution_count": 11,
   "id": "d920111e",
   "metadata": {},
   "outputs": [],
   "source": [
    "# Creating report writer agent...\n",
    "INSTRUCTIONS = (\n",
    "    \"You are a senior researcher tasked with writing a cohesive report for a research query. \"\n",
    "    \"You will be provided with the original query, and some initial research done by a research assistant.\\n\"\n",
    "    \"You should first come up with an outline for the report that describes the structure and \"\n",
    "    \"flow of the report. Then, generate the report and return that as your final output.\\n\"\n",
    "    \"The final output should be in markdown format, and it should be lengthy and detailed. Aim \"\n",
    "    \"for 5-10 pages of content, at least 1000 words.\"\n",
    ")\n",
    "\n",
    "\n",
    "class ReportOutline(BaseModel):\n",
    "    short_summary: str = Field(description=\"A brief summary of the report, 2-3 sentences\")\n",
    "    markdown_report_outline: str = Field(description=\"A detailed outline of the report, in markdown format\")\n",
    "    follow_up_questions: list[str] = Field(description=\"A list of 3-5 follow up questions that could be explored in future research\")\n",
    "\n",
    "\n",
    "writer_agent = Agent(\n",
    "    name=\"WriterAgent\",\n",
    "    instructions=INSTRUCTIONS,\n",
    "    model=\"gpt-4o-mini\",\n",
    "    output_type=ReportOutline\n",
    ")"
   ]
  },
  {
   "cell_type": "code",
   "execution_count": 20,
   "id": "9ece3712",
   "metadata": {},
   "outputs": [],
   "source": [
    "# Below 3 functions will plan and execute the search using planner and search agents\n",
    "\n",
    "async def plan_search(query: str):\n",
    "    \"\"\"This function uses the planner agent to plan which searches to perform\"\"\"\n",
    "    print(\"Planning searches...\")\n",
    "    plan_result = await Runner.run(plan_agent, f\"query: {query}\")\n",
    "    print(f\"Planner agent will perform {len(plan_result.final_output.searches)} searches\")\n",
    "    return plan_result.final_output\n",
    "\n",
    "\n",
    "async def execute_search(plan: WebSearchPlan):\n",
    "    \"\"\"This function will call search() for each item in the plan, and return the results\"\"\"\n",
    "    print(\"searching...\")\n",
    "    tasks = [asyncio.create_task(Runner.run(search_agent, f\"search term: {item.query}\")) for item in plan.searches]\n",
    "    results = await asyncio.gather(*tasks)\n",
    "    print(\"searches complete\")\n",
    "    return results\n",
    "\n",
    "\n",
    "async def search(item: WebSearchItem):\n",
    "    \"\"\" Use the search agent to run a web search for each item in the search plan \"\"\"\n",
    "    input = f\"Search term: {item.query}\\nReason for searching: {item.reason}\"\n",
    "    result = await Runner.run(search_agent, input)\n",
    "    return result.final_output\n",
    "    \n"
   ]
  },
  {
   "cell_type": "code",
   "execution_count": 33,
   "id": "ae5c81ba",
   "metadata": {},
   "outputs": [],
   "source": [
    "# These 2 functions will create the report and email it\n",
    "\n",
    "async def write_report(query: str, search_results: list[str]):\n",
    "    \"\"\" Use the writer agent to write a report based on the search results\"\"\"\n",
    "    print(\"Thinking about report...\")\n",
    "    input = f\"Original query: {query}\\nSummarized search results: {search_results}\"\n",
    "    result = await Runner.run(writer_agent, input)\n",
    "    print(\"Finished writing report\")\n",
    "    return result.final_output\n",
    "\n",
    "async def send_email(report: ReportOutline):\n",
    "    \"\"\" Use the email agent to send an email with the report \"\"\"\n",
    "    print(\"Writing email...\")\n",
    "    result = await Runner.run(email_agent, report.markdown_report_outline)\n",
    "    print(\"Email sent\")\n",
    "    return report"
   ]
  },
  {
   "cell_type": "code",
   "execution_count": 34,
   "id": "5c872dd1",
   "metadata": {},
   "outputs": [
    {
     "name": "stdout",
     "output_type": "stream",
     "text": [
      "Starting research...\n",
      "Planning searches...\n",
      "Planner agent will perform 3 searches\n",
      "searching...\n",
      "searches complete\n",
      "Thinking about report...\n",
      "Finished writing report\n",
      "Writing email...\n",
      "Email sent\n",
      "Hooray!\n"
     ]
    }
   ],
   "source": [
    "query =\"Latest AI Agent frameworks in 2025\"\n",
    "\n",
    "with trace(\"Research trace\"):\n",
    "    print(\"Starting research...\")\n",
    "    search_plan = await plan_search(query)\n",
    "    search_results = await execute_search(search_plan)\n",
    "    report = await write_report(query, search_results)\n",
    "    await send_email(report)  \n",
    "    print(\"Hooray!\")\n",
    "\n",
    "\n"
   ]
  },
  {
   "cell_type": "code",
   "execution_count": null,
   "id": "e6a0e0fb",
   "metadata": {},
   "outputs": [],
   "source": []
  }
 ],
 "metadata": {
  "kernelspec": {
   "display_name": "my_own_files",
   "language": "python",
   "name": "python3"
  },
  "language_info": {
   "codemirror_mode": {
    "name": "ipython",
    "version": 3
   },
   "file_extension": ".py",
   "mimetype": "text/x-python",
   "name": "python",
   "nbconvert_exporter": "python",
   "pygments_lexer": "ipython3",
   "version": "3.12.11"
  }
 },
 "nbformat": 4,
 "nbformat_minor": 5
}
