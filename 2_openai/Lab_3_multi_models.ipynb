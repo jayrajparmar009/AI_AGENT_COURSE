{
 "cells": [
  {
   "cell_type": "markdown",
   "id": "52920a57",
   "metadata": {},
   "source": [
    "### We'd be looking at the topics below in this notebook:\n",
    "\n",
    "1. Different models\n",
    "2. Structured outputs\n",
    "3. Guardrails"
   ]
  },
  {
   "cell_type": "code",
   "execution_count": 29,
   "id": "18f46326",
   "metadata": {},
   "outputs": [],
   "source": [
    "from dotenv import load_dotenv\n",
    "from openai import AsyncOpenAI\n",
    "from agents import Agent, Runner, trace, function_tool, OpenAIChatCompletionsModel, input_guardrail, GuardrailFunctionOutput, output_guardrail\n",
    "from typing import Dict\n",
    "import sendgrid\n",
    "import os\n",
    "from sendgrid.helpers.mail import Mail, Email, To, Content\n",
    "from pydantic import BaseModel"
   ]
  },
  {
   "cell_type": "code",
   "execution_count": 3,
   "id": "e0d37771",
   "metadata": {},
   "outputs": [
    {
     "data": {
      "text/plain": [
       "True"
      ]
     },
     "execution_count": 3,
     "metadata": {},
     "output_type": "execute_result"
    }
   ],
   "source": [
    "load_dotenv(override=True)"
   ]
  },
  {
   "cell_type": "code",
   "execution_count": 4,
   "id": "6e05f03b",
   "metadata": {},
   "outputs": [
    {
     "name": "stdout",
     "output_type": "stream",
     "text": [
      "OpenAI API Key exists and begins sk-proj-\n",
      "Google API Key exists and begins AI\n",
      "DeepSeek API Key exists and begins sk-\n",
      "Groq API Key exists and begins gsk_\n"
     ]
    }
   ],
   "source": [
    "openai_api_key = os.getenv('OPENAI_API_KEY')\n",
    "google_api_key = os.getenv('GOOGLE_API_KEY')\n",
    "deepseek_api_key = os.getenv('DEEPSEEK_API_KEY')\n",
    "groq_api_key = os.getenv('GROQ_API_KEY')\n",
    "\n",
    "if openai_api_key:\n",
    "    print(f\"OpenAI API Key exists and begins {openai_api_key[:8]}\")\n",
    "else:\n",
    "    print(\"OpenAI API Key not set\")\n",
    "\n",
    "if google_api_key:\n",
    "    print(f\"Google API Key exists and begins {google_api_key[:2]}\")\n",
    "else:\n",
    "    print(\"Google API Key not set (and this is optional)\")\n",
    "\n",
    "if deepseek_api_key:\n",
    "    print(f\"DeepSeek API Key exists and begins {deepseek_api_key[:3]}\")\n",
    "else:\n",
    "    print(\"DeepSeek API Key not set (and this is optional)\")\n",
    "\n",
    "if groq_api_key:\n",
    "    print(f\"Groq API Key exists and begins {groq_api_key[:4]}\")\n",
    "else:\n",
    "    print(\"Groq API Key not set (and this is optional)\")"
   ]
  },
  {
   "cell_type": "code",
   "execution_count": 5,
   "id": "40ac838c",
   "metadata": {},
   "outputs": [],
   "source": [
    "instructions1 = \"You are a sales agent working for ComplAI, \\\n",
    "a company that provides a SaaS tool for ensuring SOC2 compliance and preparing for audits, powered by AI. \\\n",
    "You write professional, serious cold emails.\"\n",
    "\n",
    "instructions2 = \"You are a humorous, engaging sales agent working for ComplAI, \\\n",
    "a company that provides a SaaS tool for ensuring SOC2 compliance and preparing for audits, powered by AI. \\\n",
    "You write witty, engaging cold emails that are likely to get a response.\"\n",
    "\n",
    "instructions3 = \"You are a busy sales agent working for ComplAI, \\\n",
    "a company that provides a SaaS tool for ensuring SOC2 compliance and preparing for audits, powered by AI. \\\n",
    "You write concise, to the point cold emails.\""
   ]
  },
  {
   "cell_type": "code",
   "execution_count": 6,
   "id": "ac49e035",
   "metadata": {},
   "outputs": [],
   "source": [
    "GEMINI_BASE_URL = \"https://generativelanguage.googleapis.com/v1beta/openai/\"\n",
    "DEEPSEEK_BASE_URL = \"https://api.deepseek.com/v1\"\n",
    "GROQ_BASE_URL = \"https://api.groq.com/openai/v1\""
   ]
  },
  {
   "cell_type": "code",
   "execution_count": 7,
   "id": "acdd2d69",
   "metadata": {},
   "outputs": [],
   "source": [
    "\n",
    "deepseek_client = AsyncOpenAI(base_url=DEEPSEEK_BASE_URL, api_key=deepseek_api_key)\n",
    "gemini_client = AsyncOpenAI(base_url=GEMINI_BASE_URL, api_key=google_api_key)\n",
    "groq_client = AsyncOpenAI(base_url=GROQ_BASE_URL, api_key=groq_api_key)\n",
    "\n",
    "deepseek_model = OpenAIChatCompletionsModel(model=\"deepseek-chat\", openai_client=deepseek_client)\n",
    "gemini_model = OpenAIChatCompletionsModel(model=\"gemini-2.0-flash\", openai_client=gemini_client)\n",
    "llama3_3_model = OpenAIChatCompletionsModel(model=\"llama-3.3-70b-versatile\", openai_client=groq_client)"
   ]
  },
  {
   "cell_type": "code",
   "execution_count": 13,
   "id": "4b20f329",
   "metadata": {},
   "outputs": [
    {
     "name": "stdout",
     "output_type": "stream",
     "text": [
      "<openai.AsyncOpenAI object at 0x115086cf0>\n",
      "<agents.models.openai_chatcompletions.OpenAIChatCompletionsModel object at 0x115260860>\n"
     ]
    }
   ],
   "source": [
    "print(deepseek_client)\n",
    "print(deepseek_model)"
   ]
  },
  {
   "cell_type": "code",
   "execution_count": 14,
   "id": "8df2ef5c",
   "metadata": {},
   "outputs": [],
   "source": [
    "sales_agent1 = Agent(name=\"DeepSeek Sales Agent\", instructions=instructions1, model=deepseek_model)\n",
    "sales_agent2 =  Agent(name=\"Gemini Sales Agent\", instructions=instructions2, model=gemini_model)\n",
    "sales_agent3  = Agent(name=\"Llama3.3 Sales Agent\",instructions=instructions3,model=llama3_3_model)"
   ]
  },
  {
   "cell_type": "code",
   "execution_count": 15,
   "id": "c06fa9f5",
   "metadata": {},
   "outputs": [],
   "source": [
    "description = \"Write a cold sales email\"\n",
    "\n",
    "tool1 = sales_agent1.as_tool(tool_name=\"sales_agent1\", tool_description=description)\n",
    "tool2 = sales_agent2.as_tool(tool_name=\"sales_agent2\", tool_description=description)\n",
    "tool3 = sales_agent3.as_tool(tool_name=\"sales_agent3\", tool_description=description)"
   ]
  },
  {
   "cell_type": "code",
   "execution_count": 16,
   "id": "5e9aa64c",
   "metadata": {},
   "outputs": [],
   "source": [
    "@function_tool\n",
    "def send_html_email(subject: str, html_body: str) -> Dict[str, str]:\n",
    "    \"\"\" Send out an email with the given subject and HTML body to all sales prospects \"\"\"\n",
    "    sg = sendgrid.SendGridAPIClient(api_key=os.environ.get('SENDGRID_API_KEY'))\n",
    "    from_email = os.getenv(\"YAHOO_ID\")\n",
    "    to_email = os.getenv(\"GMAIL_ID\")\n",
    "    content = Content(\"text/html\", html_body)\n",
    "    mail = Mail(from_email, to_email, subject, content).get()\n",
    "    response = sg.client.mail.send.post(request_body=mail)\n",
    "    return {\"status\": \"success\"}"
   ]
  },
  {
   "cell_type": "code",
   "execution_count": 17,
   "id": "0900b145",
   "metadata": {},
   "outputs": [],
   "source": [
    "subject_instructions = \"You can write a subject for a cold sales email. \\\n",
    "You are given a message and you need to write a subject for an email that is likely to get a response.\"\n",
    "\n",
    "html_instructions = \"You can convert a text email body to an HTML email body. \\\n",
    "You are given a text email body which might have some markdown \\\n",
    "and you need to convert it to an HTML email body with simple, clear, compelling layout and design.\"\n",
    "\n",
    "subject_writer = Agent(name=\"Email subject writer\", instructions=subject_instructions, model=\"gpt-4o-mini\")\n",
    "subject_tool = subject_writer.as_tool(tool_name=\"subject_writer\", tool_description=\"Write a subject for a cold sales email\")\n",
    "\n",
    "html_converter = Agent(name=\"HTML email body converter\", instructions=html_instructions, model=\"gpt-4o-mini\")\n",
    "html_tool = html_converter.as_tool(tool_name=\"html_converter\",tool_description=\"Convert a text email body to an HTML email body\")"
   ]
  },
  {
   "cell_type": "code",
   "execution_count": 18,
   "id": "8521f91c",
   "metadata": {},
   "outputs": [],
   "source": [
    "email_tools = [subject_tool, html_tool, send_html_email]"
   ]
  },
  {
   "cell_type": "code",
   "execution_count": 19,
   "id": "5926d325",
   "metadata": {},
   "outputs": [],
   "source": [
    "instructions =\"You are an email formatter and sender. You receive the body of an email to be sent. \\\n",
    "You first use the subject_writer tool to write a subject for the email, then use the html_converter tool to convert the body to HTML. \\\n",
    "Finally, you use the send_html_email tool to send the email with the subject and HTML body.\"\n",
    "\n",
    "\n",
    "emailer_agent = Agent(\n",
    "    name=\"Email Manager\",\n",
    "    instructions=instructions,\n",
    "    tools=email_tools,\n",
    "    model=\"gpt-4o-mini\",\n",
    "    handoff_description=\"Convert an email to HTML and send it\")"
   ]
  },
  {
   "cell_type": "code",
   "execution_count": 20,
   "id": "0c12827c",
   "metadata": {},
   "outputs": [],
   "source": [
    "tools = [tool1, tool2, tool3]\n",
    "handoffs = [emailer_agent]"
   ]
  },
  {
   "cell_type": "code",
   "execution_count": 21,
   "id": "6c96dd9a",
   "metadata": {},
   "outputs": [],
   "source": [
    "sales_manager_instructions = \"You are a sales manager working for ComplAI. You use the tools given to you to generate cold sales emails. \\\n",
    "You never generate sales emails yourself; you always use the tools. \\\n",
    "You try all 3 sales agent tools at least once before choosing the best one. \\\n",
    "You can use the tools multiple times if you're not satisfied with the results from the first try. \\\n",
    "You select the single best email using your own judgement of which email will be most effective. \\\n",
    "After picking the email, you handoff to the Email Manager agent to format and send the email.\"\n",
    "\n",
    "\n",
    "sales_manager = Agent(\n",
    "    name=\"Sales Manager\",\n",
    "    instructions=sales_manager_instructions,\n",
    "    tools=tools,\n",
    "    handoffs=handoffs,\n",
    "    model=\"gpt-4o-mini\")\n",
    "\n",
    "message = \"Send out a cold sales email addressed to Dear CEO from Alice\"\n",
    "\n",
    "with trace(\"Automated SDR\"):\n",
    "    result = await Runner.run(sales_manager, message)"
   ]
  },
  {
   "cell_type": "markdown",
   "id": "ba3fc41b",
   "metadata": {},
   "source": [
    "#### Implementing Guardrails"
   ]
  },
  {
   "cell_type": "code",
   "execution_count": 22,
   "id": "2c64fff3",
   "metadata": {},
   "outputs": [],
   "source": [
    "class NameCheckOutput(BaseModel):\n",
    "    is_name_in_message: bool\n",
    "    name: str\n",
    "\n",
    "guardrail_agent = Agent( \n",
    "    name=\"Name check\",\n",
    "    instructions=\"Check if the user is including someone's personal name in what they want you to do.\",\n",
    "    output_type=NameCheckOutput,\n",
    "    model=\"gpt-4o-mini\"\n",
    ")"
   ]
  },
  {
   "cell_type": "code",
   "execution_count": 23,
   "id": "78cabb61",
   "metadata": {},
   "outputs": [],
   "source": [
    "@input_guardrail\n",
    "async def guardrail_against_name(ctx, agent, message):\n",
    "    result = await Runner.run(guardrail_agent, message, context=ctx.context)\n",
    "    is_name_in_message = result.final_output.is_name_in_message\n",
    "    return GuardrailFunctionOutput(output_info={\"found_name\": result.final_output},tripwire_triggered=is_name_in_message)"
   ]
  },
  {
   "cell_type": "code",
   "execution_count": 24,
   "id": "e7cdb37e",
   "metadata": {},
   "outputs": [
    {
     "ename": "InputGuardrailTripwireTriggered",
     "evalue": "Guardrail InputGuardrail triggered tripwire",
     "output_type": "error",
     "traceback": [
      "\u001b[31m---------------------------------------------------------------------------\u001b[39m",
      "\u001b[31mInputGuardrailTripwireTriggered\u001b[39m           Traceback (most recent call last)",
      "\u001b[36mCell\u001b[39m\u001b[36m \u001b[39m\u001b[32mIn[24]\u001b[39m\u001b[32m, line 13\u001b[39m\n\u001b[32m     10\u001b[39m message = \u001b[33m\"\u001b[39m\u001b[33mSend out a cold sales email addressed to Dear CEO from Alice\u001b[39m\u001b[33m\"\u001b[39m\n\u001b[32m     12\u001b[39m \u001b[38;5;28;01mwith\u001b[39;00m trace(\u001b[33m\"\u001b[39m\u001b[33mProtected Automated SDR\u001b[39m\u001b[33m\"\u001b[39m):\n\u001b[32m---> \u001b[39m\u001b[32m13\u001b[39m     result = \u001b[38;5;28;01mawait\u001b[39;00m Runner.run(careful_sales_manager, message)\n",
      "\u001b[36mFile \u001b[39m\u001b[32m~/Desktop_local/LLM_courses/Agentic_AI_course/agents/my_own_files/.venv/lib/python3.12/site-packages/agents/run.py:206\u001b[39m, in \u001b[36mRunner.run\u001b[39m\u001b[34m(cls, starting_agent, input, context, max_turns, hooks, run_config, previous_response_id, session)\u001b[39m\n\u001b[32m    179\u001b[39m \u001b[38;5;250m\u001b[39m\u001b[33;03m\"\"\"Run a workflow starting at the given agent. The agent will run in a loop until a final\u001b[39;00m\n\u001b[32m    180\u001b[39m \u001b[33;03moutput is generated. The loop runs like so:\u001b[39;00m\n\u001b[32m    181\u001b[39m \u001b[33;03m1. The agent is invoked with the given input.\u001b[39;00m\n\u001b[32m   (...)\u001b[39m\u001b[32m    203\u001b[39m \u001b[33;03m    agent. Agents may perform handoffs, so we don't know the specific type of the output.\u001b[39;00m\n\u001b[32m    204\u001b[39m \u001b[33;03m\"\"\"\u001b[39;00m\n\u001b[32m    205\u001b[39m runner = DEFAULT_AGENT_RUNNER\n\u001b[32m--> \u001b[39m\u001b[32m206\u001b[39m \u001b[38;5;28;01mreturn\u001b[39;00m \u001b[38;5;28;01mawait\u001b[39;00m runner.run(\n\u001b[32m    207\u001b[39m     starting_agent,\n\u001b[32m    208\u001b[39m     \u001b[38;5;28minput\u001b[39m,\n\u001b[32m    209\u001b[39m     context=context,\n\u001b[32m    210\u001b[39m     max_turns=max_turns,\n\u001b[32m    211\u001b[39m     hooks=hooks,\n\u001b[32m    212\u001b[39m     run_config=run_config,\n\u001b[32m    213\u001b[39m     previous_response_id=previous_response_id,\n\u001b[32m    214\u001b[39m     session=session,\n\u001b[32m    215\u001b[39m )\n",
      "\u001b[36mFile \u001b[39m\u001b[32m~/Desktop_local/LLM_courses/Agentic_AI_course/agents/my_own_files/.venv/lib/python3.12/site-packages/agents/run.py:412\u001b[39m, in \u001b[36mAgentRunner.run\u001b[39m\u001b[34m(self, starting_agent, input, **kwargs)\u001b[39m\n\u001b[32m    407\u001b[39m logger.debug(\n\u001b[32m    408\u001b[39m     \u001b[33mf\u001b[39m\u001b[33m\"\u001b[39m\u001b[33mRunning agent \u001b[39m\u001b[38;5;132;01m{\u001b[39;00mcurrent_agent.name\u001b[38;5;132;01m}\u001b[39;00m\u001b[33m (turn \u001b[39m\u001b[38;5;132;01m{\u001b[39;00mcurrent_turn\u001b[38;5;132;01m}\u001b[39;00m\u001b[33m)\u001b[39m\u001b[33m\"\u001b[39m,\n\u001b[32m    409\u001b[39m )\n\u001b[32m    411\u001b[39m \u001b[38;5;28;01mif\u001b[39;00m current_turn == \u001b[32m1\u001b[39m:\n\u001b[32m--> \u001b[39m\u001b[32m412\u001b[39m     input_guardrail_results, turn_result = \u001b[38;5;28;01mawait\u001b[39;00m asyncio.gather(\n\u001b[32m    413\u001b[39m         \u001b[38;5;28mself\u001b[39m._run_input_guardrails(\n\u001b[32m    414\u001b[39m             starting_agent,\n\u001b[32m    415\u001b[39m             starting_agent.input_guardrails\n\u001b[32m    416\u001b[39m             + (run_config.input_guardrails \u001b[38;5;129;01mor\u001b[39;00m []),\n\u001b[32m    417\u001b[39m             copy.deepcopy(prepared_input),\n\u001b[32m    418\u001b[39m             context_wrapper,\n\u001b[32m    419\u001b[39m         ),\n\u001b[32m    420\u001b[39m         \u001b[38;5;28mself\u001b[39m._run_single_turn(\n\u001b[32m    421\u001b[39m             agent=current_agent,\n\u001b[32m    422\u001b[39m             all_tools=all_tools,\n\u001b[32m    423\u001b[39m             original_input=original_input,\n\u001b[32m    424\u001b[39m             generated_items=generated_items,\n\u001b[32m    425\u001b[39m             hooks=hooks,\n\u001b[32m    426\u001b[39m             context_wrapper=context_wrapper,\n\u001b[32m    427\u001b[39m             run_config=run_config,\n\u001b[32m    428\u001b[39m             should_run_agent_start_hooks=should_run_agent_start_hooks,\n\u001b[32m    429\u001b[39m             tool_use_tracker=tool_use_tracker,\n\u001b[32m    430\u001b[39m             previous_response_id=previous_response_id,\n\u001b[32m    431\u001b[39m         ),\n\u001b[32m    432\u001b[39m     )\n\u001b[32m    433\u001b[39m \u001b[38;5;28;01melse\u001b[39;00m:\n\u001b[32m    434\u001b[39m     turn_result = \u001b[38;5;28;01mawait\u001b[39;00m \u001b[38;5;28mself\u001b[39m._run_single_turn(\n\u001b[32m    435\u001b[39m         agent=current_agent,\n\u001b[32m    436\u001b[39m         all_tools=all_tools,\n\u001b[32m   (...)\u001b[39m\u001b[32m    444\u001b[39m         previous_response_id=previous_response_id,\n\u001b[32m    445\u001b[39m     )\n",
      "\u001b[36mFile \u001b[39m\u001b[32m~/Desktop_local/LLM_courses/Agentic_AI_course/agents/my_own_files/.venv/lib/python3.12/site-packages/agents/run.py:1058\u001b[39m, in \u001b[36mAgentRunner._run_input_guardrails\u001b[39m\u001b[34m(cls, agent, guardrails, input, context)\u001b[39m\n\u001b[32m   1051\u001b[39m         t.cancel()\n\u001b[32m   1052\u001b[39m     _error_tracing.attach_error_to_current_span(\n\u001b[32m   1053\u001b[39m         SpanError(\n\u001b[32m   1054\u001b[39m             message=\u001b[33m\"\u001b[39m\u001b[33mGuardrail tripwire triggered\u001b[39m\u001b[33m\"\u001b[39m,\n\u001b[32m   1055\u001b[39m             data={\u001b[33m\"\u001b[39m\u001b[33mguardrail\u001b[39m\u001b[33m\"\u001b[39m: result.guardrail.get_name()},\n\u001b[32m   1056\u001b[39m         )\n\u001b[32m   1057\u001b[39m     )\n\u001b[32m-> \u001b[39m\u001b[32m1058\u001b[39m     \u001b[38;5;28;01mraise\u001b[39;00m InputGuardrailTripwireTriggered(result)\n\u001b[32m   1059\u001b[39m \u001b[38;5;28;01melse\u001b[39;00m:\n\u001b[32m   1060\u001b[39m     guardrail_results.append(result)\n",
      "\u001b[31mInputGuardrailTripwireTriggered\u001b[39m: Guardrail InputGuardrail triggered tripwire"
     ]
    }
   ],
   "source": [
    "careful_sales_manager = Agent(\n",
    "    name=\"Sales Manager\",\n",
    "    instructions=sales_manager_instructions,\n",
    "    tools=tools,\n",
    "    handoffs=[emailer_agent],\n",
    "    model=\"gpt-4o-mini\",\n",
    "    input_guardrails=[guardrail_against_name]\n",
    "    )\n",
    "\n",
    "message = \"Send out a cold sales email addressed to Dear CEO from Alice\"\n",
    "\n",
    "with trace(\"Protected Automated SDR\"):\n",
    "    result = await Runner.run(careful_sales_manager, message)"
   ]
  },
  {
   "cell_type": "markdown",
   "id": "7db6c047",
   "metadata": {},
   "source": [
    "### Implementing Output guardrail for practice"
   ]
  },
  {
   "cell_type": "code",
   "execution_count": null,
   "id": "3523a83e",
   "metadata": {},
   "outputs": [],
   "source": [
    "# class no_company_name_in_message(BaseModel):\n",
    "#     is_company_name_in_message: bool\n",
    "#     company_name: str\n",
    "\n",
    "\n",
    "# guardrail_agent_2 = Agent( \n",
    "#     name=\"Company Name check\",\n",
    "#     instructions=\"Check if the agent is including the company's name in email generated by it\",\n",
    "#     output_type=no_company_name_in_message,\n",
    "#     model=\"gpt-4o-mini\"\n",
    "# )\n",
    "\n",
    "\n",
    "# @output_guardrail\n",
    "# async def guardrail_against_companyname(ctx, agent, result):\n",
    "#     # generated = result.final_output\n",
    "#     # result = await Runner.run(guardrail_agent_2, result, context=ctx.context)\n",
    "#     # companyname_in_message = result.final_output.is_company_name_in_message\n",
    "#     # return GuardrailFunctionOutput(output_info={\"found_name\": result.final_output},tripwire_triggered=companyname_in_message)\n",
    "#      # Extract the text the agent produced. Adjust this if your agent returns a structured object.\n",
    "#     generated = getattr(result, \"final_output\", result)\n",
    "\n",
    "#     # If the agent returned a dict/object, pick the right field that contains the email text\n",
    "#     if isinstance(generated, dict) and \"text\" in generated:\n",
    "#         generated = generated[\"text\"]\n",
    "\n",
    "#     # Defensive: ensure we pass a string to the checker\n",
    "#     generated_str = str(generated)\n",
    "\n",
    "#     check = await Runner.run(guardrail_agent_2, generated_str, context=ctx.context)\n",
    "#     trip = bool(check.final_output.is_company_name_in_message)\n",
    "\n",
    "#     return GuardrailFunctionOutput(\n",
    "#         output_info={\"company_check\": check.final_output},\n",
    "#         tripwire_triggered=trip\n",
    "#     )\n",
    "\n",
    "\n",
    "# careful_sales_manager = Agent(\n",
    "#     name=\"Sales Manager\",\n",
    "#     instructions=sales_manager_instructions,\n",
    "#     tools=tools,\n",
    "#     handoffs=[emailer_agent],\n",
    "#     model=\"gpt-4o-mini\",\n",
    "#     # input_guardrails=[guardrail_against_name]\n",
    "#     output_guardrails=[guardrail_against_companyname]\n",
    "#     )\n",
    "\n",
    "# message = \"Send out a cold sales email addressed to Dear CEO from Alice\"\n",
    "\n",
    "# with trace(\"Protected Automated SDR\"):\n",
    "#     result = await Runner.run(careful_sales_manager, message)"
   ]
  },
  {
   "cell_type": "code",
   "execution_count": 35,
   "id": "3511d192",
   "metadata": {},
   "outputs": [
    {
     "ename": "OutputGuardrailTripwireTriggered",
     "evalue": "Guardrail OutputGuardrail triggered tripwire",
     "output_type": "error",
     "traceback": [
      "\u001b[31m---------------------------------------------------------------------------\u001b[39m",
      "\u001b[31mOutputGuardrailTripwireTriggered\u001b[39m          Traceback (most recent call last)",
      "\u001b[36mCell\u001b[39m\u001b[36m \u001b[39m\u001b[32mIn[35]\u001b[39m\u001b[32m, line 110\u001b[39m\n\u001b[32m    108\u001b[39m message = \u001b[33m\"\u001b[39m\u001b[33mSend out a cold sales email addressed to Dear CEO from Alice with bad tone and spammy language!!!\u001b[39m\u001b[33m\"\u001b[39m\n\u001b[32m    109\u001b[39m \u001b[38;5;28;01mwith\u001b[39;00m trace(\u001b[33m\"\u001b[39m\u001b[33mProtected Automated SDR\u001b[39m\u001b[33m\"\u001b[39m):\n\u001b[32m--> \u001b[39m\u001b[32m110\u001b[39m     result = \u001b[38;5;28;01mawait\u001b[39;00m Runner.run(careful_sales_manager, message)\n",
      "\u001b[36mFile \u001b[39m\u001b[32m~/Desktop_local/LLM_courses/Agentic_AI_course/agents/my_own_files/.venv/lib/python3.12/site-packages/agents/run.py:206\u001b[39m, in \u001b[36mRunner.run\u001b[39m\u001b[34m(cls, starting_agent, input, context, max_turns, hooks, run_config, previous_response_id, session)\u001b[39m\n\u001b[32m    179\u001b[39m \u001b[38;5;250m\u001b[39m\u001b[33;03m\"\"\"Run a workflow starting at the given agent. The agent will run in a loop until a final\u001b[39;00m\n\u001b[32m    180\u001b[39m \u001b[33;03moutput is generated. The loop runs like so:\u001b[39;00m\n\u001b[32m    181\u001b[39m \u001b[33;03m1. The agent is invoked with the given input.\u001b[39;00m\n\u001b[32m   (...)\u001b[39m\u001b[32m    203\u001b[39m \u001b[33;03m    agent. Agents may perform handoffs, so we don't know the specific type of the output.\u001b[39;00m\n\u001b[32m    204\u001b[39m \u001b[33;03m\"\"\"\u001b[39;00m\n\u001b[32m    205\u001b[39m runner = DEFAULT_AGENT_RUNNER\n\u001b[32m--> \u001b[39m\u001b[32m206\u001b[39m \u001b[38;5;28;01mreturn\u001b[39;00m \u001b[38;5;28;01mawait\u001b[39;00m runner.run(\n\u001b[32m    207\u001b[39m     starting_agent,\n\u001b[32m    208\u001b[39m     \u001b[38;5;28minput\u001b[39m,\n\u001b[32m    209\u001b[39m     context=context,\n\u001b[32m    210\u001b[39m     max_turns=max_turns,\n\u001b[32m    211\u001b[39m     hooks=hooks,\n\u001b[32m    212\u001b[39m     run_config=run_config,\n\u001b[32m    213\u001b[39m     previous_response_id=previous_response_id,\n\u001b[32m    214\u001b[39m     session=session,\n\u001b[32m    215\u001b[39m )\n",
      "\u001b[36mFile \u001b[39m\u001b[32m~/Desktop_local/LLM_courses/Agentic_AI_course/agents/my_own_files/.venv/lib/python3.12/site-packages/agents/run.py:453\u001b[39m, in \u001b[36mAgentRunner.run\u001b[39m\u001b[34m(self, starting_agent, input, **kwargs)\u001b[39m\n\u001b[32m    450\u001b[39m generated_items = turn_result.generated_items\n\u001b[32m    452\u001b[39m \u001b[38;5;28;01mif\u001b[39;00m \u001b[38;5;28misinstance\u001b[39m(turn_result.next_step, NextStepFinalOutput):\n\u001b[32m--> \u001b[39m\u001b[32m453\u001b[39m     output_guardrail_results = \u001b[38;5;28;01mawait\u001b[39;00m \u001b[38;5;28mself\u001b[39m._run_output_guardrails(\n\u001b[32m    454\u001b[39m         current_agent.output_guardrails + (run_config.output_guardrails \u001b[38;5;129;01mor\u001b[39;00m []),\n\u001b[32m    455\u001b[39m         current_agent,\n\u001b[32m    456\u001b[39m         turn_result.next_step.output,\n\u001b[32m    457\u001b[39m         context_wrapper,\n\u001b[32m    458\u001b[39m     )\n\u001b[32m    459\u001b[39m     result = RunResult(\n\u001b[32m    460\u001b[39m         \u001b[38;5;28minput\u001b[39m=original_input,\n\u001b[32m    461\u001b[39m         new_items=generated_items,\n\u001b[32m   (...)\u001b[39m\u001b[32m    467\u001b[39m         context_wrapper=context_wrapper,\n\u001b[32m    468\u001b[39m     )\n\u001b[32m    470\u001b[39m     \u001b[38;5;66;03m# Save the conversation to session if enabled\u001b[39;00m\n",
      "\u001b[36mFile \u001b[39m\u001b[32m~/Desktop_local/LLM_courses/Agentic_AI_course/agents/my_own_files/.venv/lib/python3.12/site-packages/agents/run.py:1096\u001b[39m, in \u001b[36mAgentRunner._run_output_guardrails\u001b[39m\u001b[34m(cls, guardrails, agent, agent_output, context)\u001b[39m\n\u001b[32m   1089\u001b[39m         t.cancel()\n\u001b[32m   1090\u001b[39m     _error_tracing.attach_error_to_current_span(\n\u001b[32m   1091\u001b[39m         SpanError(\n\u001b[32m   1092\u001b[39m             message=\u001b[33m\"\u001b[39m\u001b[33mGuardrail tripwire triggered\u001b[39m\u001b[33m\"\u001b[39m,\n\u001b[32m   1093\u001b[39m             data={\u001b[33m\"\u001b[39m\u001b[33mguardrail\u001b[39m\u001b[33m\"\u001b[39m: result.guardrail.get_name()},\n\u001b[32m   1094\u001b[39m         )\n\u001b[32m   1095\u001b[39m     )\n\u001b[32m-> \u001b[39m\u001b[32m1096\u001b[39m     \u001b[38;5;28;01mraise\u001b[39;00m OutputGuardrailTripwireTriggered(result)\n\u001b[32m   1097\u001b[39m \u001b[38;5;28;01melse\u001b[39;00m:\n\u001b[32m   1098\u001b[39m     guardrail_results.append(result)\n",
      "\u001b[31mOutputGuardrailTripwireTriggered\u001b[39m: Guardrail OutputGuardrail triggered tripwire"
     ]
    }
   ],
   "source": [
    "# from pydantic import BaseModel, Field\n",
    "\n",
    "# # 1) Schema for the guardrail agent's structured output\n",
    "# class CompanyNameCheck(BaseModel):\n",
    "#     is_company_name_in_message: bool = Field(..., description=\"True if a company name is present\")\n",
    "#     company_name: str = Field(\"\", description=\"Detected company name, else empty\")\n",
    "\n",
    "# # 2) Guardrail agent that inspects the *generated email text*\n",
    "# guardrail_agent_2 = Agent(\n",
    "#     name=\"Company Name check\",\n",
    "#     instructions=(\n",
    "#         \"You are a strict checker. Given an email body, respond in JSON: \"\n",
    "#         \"{ is_company_name_in_message: bool, company_name: string }. \"\n",
    "#         \"Return company_name empty when not present.\"\n",
    "#     ),\n",
    "#     output_type=CompanyNameCheck,\n",
    "#     model=\"gpt-4o-mini\",\n",
    "# )\n",
    "\n",
    "# # 3) OUTPUT guardrail runs AFTER the agent produces a result\n",
    "# @output_guardrail\n",
    "# async def guardrail_against_companyname(ctx, agent, result):\n",
    "#     \"\"\"\n",
    "#     NOTE: For output guardrails, you receive the agent's *result* (not the input message).\n",
    "#     `result` is typically a RunResult with `final_output`.\n",
    "#     \"\"\"\n",
    "#     # Extract the text the agent produced. Adjust this if your agent returns a structured object.\n",
    "#     generated = getattr(result, \"final_output\", result)\n",
    "\n",
    "#     # If the agent returned a dict/object, pick the right field that contains the email text\n",
    "#     if isinstance(generated, dict) and \"text\" in generated:\n",
    "#         generated = generated[\"text\"]\n",
    "\n",
    "#     # Defensive: ensure we pass a string to the checker\n",
    "#     generated_str = str(generated)\n",
    "\n",
    "#     check = await Runner.run(guardrail_agent_2, generated_str, context=ctx.context)\n",
    "#     trip = bool(check.final_output.is_company_name_in_message)\n",
    "\n",
    "#     return GuardrailFunctionOutput(\n",
    "#         output_info={\"company_check\": check.final_output},\n",
    "#         tripwire_triggered=trip\n",
    "#     )\n",
    "\n",
    "\n",
    "from pydantic import BaseModel, Field\n",
    "\n",
    "class ToneCheckOutput(BaseModel):\n",
    "    is_tone_acceptable: bool = Field(..., description=\"False if the tone is too pushy, spammy, or inappropriate\")\n",
    "    reason: str = Field(\"\", description=\"Why the tone was flagged\")\n",
    "\n",
    "tone_guardrail_agent = Agent(\n",
    "    name=\"Tone Check\",\n",
    "    instructions=(\n",
    "        \"You are a tone auditor. Given a sales email, decide if it follows these rules:\\n\"\n",
    "        \"- Polite and professional.\\n\"\n",
    "        \"- No exaggerated claims or spammy language.\\n\"\n",
    "        \"- Avoid ALL CAPS or multiple exclamation points.\\n\\n\"\n",
    "        \"Return JSON: { is_tone_acceptable: bool, reason: str }\"\n",
    "    ),\n",
    "    output_type=ToneCheckOutput,\n",
    "    model=\"gpt-4o-mini\"\n",
    ")\n",
    "\n",
    "@output_guardrail\n",
    "async def guardrail_against_bad_tone(ctx, agent, result):\n",
    "    generated = getattr(result, \"final_output\", result)\n",
    "    email_text = str(generated.get(\"body\") if isinstance(generated, dict) else generated)\n",
    "\n",
    "    check = await Runner.run(tone_guardrail_agent, email_text, context=ctx.context)\n",
    "    trip = not check.final_output.is_tone_acceptable\n",
    "\n",
    "    return GuardrailFunctionOutput(\n",
    "        output_info={\"tone\": check.final_output},\n",
    "        tripwire_triggered=trip\n",
    "    )\n",
    "\n",
    "\n",
    "\n",
    "\n",
    "\n",
    "\n",
    "# We will create another email agent so that we can attach the output guardrail to it.\n",
    "instructions =\"You are an email formatter and sender. You receive the body of an email to be sent. \\\n",
    "You first use the subject_writer tool to write a subject for the email, then use the html_converter tool to convert the body to HTML. \\\n",
    "Finally, you use the send_html_email tool to send the email with the subject and HTML body.\"\n",
    "\n",
    "\n",
    "emailer_agent = Agent(\n",
    "    name=\"Email Manager\",\n",
    "    instructions=instructions,\n",
    "    tools=email_tools,\n",
    "    model=\"gpt-4o-mini\",\n",
    "    handoff_description=\"Convert an email to HTML and send it\",\n",
    "    output_guardrails=[guardrail_against_bad_tone] )\n",
    "\n",
    "\n",
    "# Attach to the agent that produces the DRAFT to be sent.\n",
    "careful_sales_manager = Agent(\n",
    "    name=\"Sales Manager\",\n",
    "    instructions=sales_manager_instructions,\n",
    "    tools=tools,\n",
    "    handoffs=[emailer_agent],\n",
    "    model=\"gpt-4o-mini\",\n",
    ")\n",
    "\n",
    "message = \"Send out a cold sales email addressed to Dear CEO from Alice with bad tone and spammy language!!!\"\n",
    "with trace(\"Protected Automated SDR\"):\n",
    "    result = await Runner.run(careful_sales_manager, message)\n"
   ]
  },
  {
   "cell_type": "code",
   "execution_count": null,
   "id": "8aad7ebc",
   "metadata": {},
   "outputs": [],
   "source": []
  },
  {
   "cell_type": "code",
   "execution_count": null,
   "id": "29bc2e42",
   "metadata": {},
   "outputs": [],
   "source": []
  }
 ],
 "metadata": {
  "kernelspec": {
   "display_name": "my_own_files",
   "language": "python",
   "name": "python3"
  },
  "language_info": {
   "codemirror_mode": {
    "name": "ipython",
    "version": 3
   },
   "file_extension": ".py",
   "mimetype": "text/x-python",
   "name": "python",
   "nbconvert_exporter": "python",
   "pygments_lexer": "ipython3",
   "version": "3.12.11"
  }
 },
 "nbformat": 4,
 "nbformat_minor": 5
}
